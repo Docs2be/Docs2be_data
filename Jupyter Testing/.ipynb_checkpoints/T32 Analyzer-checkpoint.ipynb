{
 "cells": [
  {
   "cell_type": "markdown",
   "id": "ea800229-e7f8-43a8-a16f-143eb4df807f",
   "metadata": {},
   "source": [
    "# **T32 MSTP Grant Analyzer**"
   ]
  },
  {
   "cell_type": "markdown",
   "id": "692984a9-7d2d-4fcb-9981-8b98ae3c863b",
   "metadata": {},
   "source": [
    "### Importing packages"
   ]
  },
  {
   "cell_type": "code",
   "execution_count": 16,
   "id": "f32bfdc0-973e-4e82-b9e4-133f5c9dbcfb",
   "metadata": {},
   "outputs": [],
   "source": [
    "import pandas as pd\n",
    "import numpy as np\n",
    "import plotly.express as px"
   ]
  },
  {
   "cell_type": "markdown",
   "id": "7bbe744c-0db2-46ea-a173-453dbbe0d654",
   "metadata": {},
   "source": [
    "### Importing the spreadsheet from NIH Reporter"
   ]
  },
  {
   "cell_type": "code",
   "execution_count": 57,
   "id": "683120d0-63d9-41d6-b262-1bffea5025d1",
   "metadata": {},
   "outputs": [
    {
     "data": {
      "text/html": [
       "<div>\n",
       "<style scoped>\n",
       "    .dataframe tbody tr th:only-of-type {\n",
       "        vertical-align: middle;\n",
       "    }\n",
       "\n",
       "    .dataframe tbody tr th {\n",
       "        vertical-align: top;\n",
       "    }\n",
       "\n",
       "    .dataframe thead th {\n",
       "        text-align: right;\n",
       "    }\n",
       "</style>\n",
       "<table border=\"1\" class=\"dataframe\">\n",
       "  <thead>\n",
       "    <tr style=\"text-align: right;\">\n",
       "      <th></th>\n",
       "      <th>NIH Spending Categorization</th>\n",
       "      <th>Project Terms</th>\n",
       "      <th>Project Title</th>\n",
       "      <th>Public Health Relevance</th>\n",
       "      <th>Administering IC</th>\n",
       "      <th>Application ID</th>\n",
       "      <th>Award Notice Date</th>\n",
       "      <th>FOA</th>\n",
       "      <th>Project Number</th>\n",
       "      <th>Type</th>\n",
       "      <th>...</th>\n",
       "      <th>Funding Mechanism</th>\n",
       "      <th>Fiscal Year</th>\n",
       "      <th>Total Cost</th>\n",
       "      <th>Total Cost (Sub Projects)</th>\n",
       "      <th>Funding IC(s)</th>\n",
       "      <th>Direct Cost IC</th>\n",
       "      <th>InDirect Cost IC</th>\n",
       "      <th>NIH COVID-19 Response</th>\n",
       "      <th>Total Cost IC</th>\n",
       "      <th>Unnamed: 52</th>\n",
       "    </tr>\n",
       "  </thead>\n",
       "  <tbody>\n",
       "    <tr>\n",
       "      <th>0</th>\n",
       "      <td>No NIH Category available</td>\n",
       "      <td>Medical;Scientist;South Texas;Training Programs</td>\n",
       "      <td>South Texas Medical Scientist Training Program...</td>\n",
       "      <td>Project Narrative:\\nThe South Texas MSTP train...</td>\n",
       "      <td>NIGMS</td>\n",
       "      <td>10158492</td>\n",
       "      <td>5/24/2021 12:00:00 AM</td>\n",
       "      <td>PA-16-152</td>\n",
       "      <td>5T32GM113896-04</td>\n",
       "      <td>5</td>\n",
       "      <td>...</td>\n",
       "      <td>Training, Institutional</td>\n",
       "      <td>2021</td>\n",
       "      <td></td>\n",
       "      <td></td>\n",
       "      <td>NIGMS</td>\n",
       "      <td>214580</td>\n",
       "      <td>12134</td>\n",
       "      <td></td>\n",
       "      <td>226714</td>\n",
       "      <td>NaN</td>\n",
       "    </tr>\n",
       "    <tr>\n",
       "      <th>1</th>\n",
       "      <td>No NIH Category available</td>\n",
       "      <td>Medical;Scientist;South Texas;Training Programs</td>\n",
       "      <td>South Texas Medical Scientist Training Program...</td>\n",
       "      <td>Project Narrative:\\nThe South Texas MSTP train...</td>\n",
       "      <td>NIGMS</td>\n",
       "      <td>10377635</td>\n",
       "      <td>6/28/2021 12:00:00 AM</td>\n",
       "      <td>PA-16-152</td>\n",
       "      <td>3T32GM113896-04S1</td>\n",
       "      <td>3</td>\n",
       "      <td>...</td>\n",
       "      <td>Training, Institutional</td>\n",
       "      <td>2021</td>\n",
       "      <td></td>\n",
       "      <td></td>\n",
       "      <td>NIMH</td>\n",
       "      <td>42916</td>\n",
       "      <td>2427</td>\n",
       "      <td></td>\n",
       "      <td>45343</td>\n",
       "      <td>NaN</td>\n",
       "    </tr>\n",
       "    <tr>\n",
       "      <th>2</th>\n",
       "      <td>No NIH Category available</td>\n",
       "      <td>Medical;Scientist;Training Programs</td>\n",
       "      <td>Medical Scientist Training Program</td>\n",
       "      <td>Project Narrative\\nThe CWRU Medical Scientist ...</td>\n",
       "      <td>NIGMS</td>\n",
       "      <td>10438947</td>\n",
       "      <td>6/29/2021 12:00:00 AM</td>\n",
       "      <td>PA-16-152</td>\n",
       "      <td>3T32GM007250-46S1</td>\n",
       "      <td>3</td>\n",
       "      <td>...</td>\n",
       "      <td>Training, Institutional</td>\n",
       "      <td>2021</td>\n",
       "      <td></td>\n",
       "      <td></td>\n",
       "      <td>NEI</td>\n",
       "      <td>51336</td>\n",
       "      <td>2427</td>\n",
       "      <td></td>\n",
       "      <td>53763</td>\n",
       "      <td>NaN</td>\n",
       "    </tr>\n",
       "    <tr>\n",
       "      <th>3</th>\n",
       "      <td>No NIH Category available</td>\n",
       "      <td>Medical;Scientist;Training Programs</td>\n",
       "      <td>Medical Scientist Training Program</td>\n",
       "      <td>MSTP Project Narrative\\nProgress towards solvi...</td>\n",
       "      <td>NIGMS</td>\n",
       "      <td>10444400</td>\n",
       "      <td>8/12/2021 12:00:00 AM</td>\n",
       "      <td>PAR-19-036</td>\n",
       "      <td>3T32GM136577-02S1</td>\n",
       "      <td>3</td>\n",
       "      <td>...</td>\n",
       "      <td>Training, Institutional</td>\n",
       "      <td>2021</td>\n",
       "      <td></td>\n",
       "      <td></td>\n",
       "      <td>NIAID</td>\n",
       "      <td>51336</td>\n",
       "      <td>2427</td>\n",
       "      <td></td>\n",
       "      <td>53763</td>\n",
       "      <td>NaN</td>\n",
       "    </tr>\n",
       "    <tr>\n",
       "      <th>4</th>\n",
       "      <td>No NIH Category available</td>\n",
       "      <td>Medical;Scientist;Training Programs</td>\n",
       "      <td>Medical Scientist Training Program</td>\n",
       "      <td>MSTP Project Narrative\\nProgress towards solvi...</td>\n",
       "      <td>NIGMS</td>\n",
       "      <td>10204051</td>\n",
       "      <td>5/25/2021 12:00:00 AM</td>\n",
       "      <td>PAR-19-036</td>\n",
       "      <td>5T32GM136577-02</td>\n",
       "      <td>5</td>\n",
       "      <td>...</td>\n",
       "      <td>Training, Institutional</td>\n",
       "      <td>2021</td>\n",
       "      <td></td>\n",
       "      <td></td>\n",
       "      <td>NIGMS</td>\n",
       "      <td>1642752</td>\n",
       "      <td>77660</td>\n",
       "      <td></td>\n",
       "      <td>1720412</td>\n",
       "      <td>NaN</td>\n",
       "    </tr>\n",
       "    <tr>\n",
       "      <th>...</th>\n",
       "      <td>...</td>\n",
       "      <td>...</td>\n",
       "      <td>...</td>\n",
       "      <td>...</td>\n",
       "      <td>...</td>\n",
       "      <td>...</td>\n",
       "      <td>...</td>\n",
       "      <td>...</td>\n",
       "      <td>...</td>\n",
       "      <td>...</td>\n",
       "      <td>...</td>\n",
       "      <td>...</td>\n",
       "      <td>...</td>\n",
       "      <td>...</td>\n",
       "      <td>...</td>\n",
       "      <td>...</td>\n",
       "      <td>...</td>\n",
       "      <td>...</td>\n",
       "      <td>...</td>\n",
       "      <td>...</td>\n",
       "      <td>...</td>\n",
       "    </tr>\n",
       "    <tr>\n",
       "      <th>1656</th>\n",
       "      <td>No NIH Category available</td>\n",
       "      <td></td>\n",
       "      <td>MEDICAL SCIENTIST NATINAL RESEARCH SERVICE AWARD</td>\n",
       "      <td>NaN</td>\n",
       "      <td>NIGMS</td>\n",
       "      <td>3537180</td>\n",
       "      <td></td>\n",
       "      <td></td>\n",
       "      <td>2T32GM007281-11A1</td>\n",
       "      <td>2</td>\n",
       "      <td>...</td>\n",
       "      <td></td>\n",
       "      <td>1985</td>\n",
       "      <td></td>\n",
       "      <td></td>\n",
       "      <td>NIGMS</td>\n",
       "      <td></td>\n",
       "      <td></td>\n",
       "      <td></td>\n",
       "      <td>1047484</td>\n",
       "      <td>NaN</td>\n",
       "    </tr>\n",
       "    <tr>\n",
       "      <th>1657</th>\n",
       "      <td>No NIH Category available</td>\n",
       "      <td></td>\n",
       "      <td>NATIONAL RESEARCH SERVICE AWARD - MEDICAL SCIE...</td>\n",
       "      <td>NaN</td>\n",
       "      <td>NIGMS</td>\n",
       "      <td>3536983</td>\n",
       "      <td></td>\n",
       "      <td></td>\n",
       "      <td>2T32GM007200-11</td>\n",
       "      <td>2</td>\n",
       "      <td>...</td>\n",
       "      <td></td>\n",
       "      <td>1985</td>\n",
       "      <td></td>\n",
       "      <td></td>\n",
       "      <td>NIGMS</td>\n",
       "      <td></td>\n",
       "      <td></td>\n",
       "      <td></td>\n",
       "      <td>773014</td>\n",
       "      <td>NaN</td>\n",
       "    </tr>\n",
       "    <tr>\n",
       "      <th>1658</th>\n",
       "      <td>No NIH Category available</td>\n",
       "      <td></td>\n",
       "      <td>MEDICAL SCIENTIST TRAINING PROGRAM MOLECULAR G...</td>\n",
       "      <td>NaN</td>\n",
       "      <td>NIGMS</td>\n",
       "      <td>3024631</td>\n",
       "      <td></td>\n",
       "      <td></td>\n",
       "      <td>1F31GM010832-01</td>\n",
       "      <td>1</td>\n",
       "      <td>...</td>\n",
       "      <td></td>\n",
       "      <td>1985</td>\n",
       "      <td></td>\n",
       "      <td></td>\n",
       "      <td>NIGMS</td>\n",
       "      <td></td>\n",
       "      <td></td>\n",
       "      <td></td>\n",
       "      <td>18652</td>\n",
       "      <td>NaN</td>\n",
       "    </tr>\n",
       "    <tr>\n",
       "      <th>1659</th>\n",
       "      <td>No NIH Category available</td>\n",
       "      <td></td>\n",
       "      <td>MEDICAL SCIENTIST NATIONAL RESEARCH SERVICE AWARD</td>\n",
       "      <td>NaN</td>\n",
       "      <td>NIGMS</td>\n",
       "      <td>3537221</td>\n",
       "      <td></td>\n",
       "      <td></td>\n",
       "      <td>2T32GM007308-11</td>\n",
       "      <td>2</td>\n",
       "      <td>...</td>\n",
       "      <td></td>\n",
       "      <td>1985</td>\n",
       "      <td></td>\n",
       "      <td></td>\n",
       "      <td>NIGMS</td>\n",
       "      <td></td>\n",
       "      <td></td>\n",
       "      <td></td>\n",
       "      <td>798322</td>\n",
       "      <td>NaN</td>\n",
       "    </tr>\n",
       "    <tr>\n",
       "      <th>1660</th>\n",
       "      <td>No NIH Category available</td>\n",
       "      <td></td>\n",
       "      <td>MOUNT SINAI MEDICAL SCIENTIST TRAINING PROGRAM</td>\n",
       "      <td>NaN</td>\n",
       "      <td>NIGMS</td>\n",
       "      <td>3537173</td>\n",
       "      <td></td>\n",
       "      <td></td>\n",
       "      <td>5T32GM007280-09</td>\n",
       "      <td>5</td>\n",
       "      <td>...</td>\n",
       "      <td></td>\n",
       "      <td>1985</td>\n",
       "      <td></td>\n",
       "      <td></td>\n",
       "      <td>NIGMS</td>\n",
       "      <td></td>\n",
       "      <td></td>\n",
       "      <td></td>\n",
       "      <td>316529</td>\n",
       "      <td>NaN</td>\n",
       "    </tr>\n",
       "  </tbody>\n",
       "</table>\n",
       "<p>1661 rows × 53 columns</p>\n",
       "</div>"
      ],
      "text/plain": [
       "     NIH Spending Categorization  \\\n",
       "0      No NIH Category available   \n",
       "1      No NIH Category available   \n",
       "2      No NIH Category available   \n",
       "3      No NIH Category available   \n",
       "4      No NIH Category available   \n",
       "...                          ...   \n",
       "1656   No NIH Category available   \n",
       "1657   No NIH Category available   \n",
       "1658   No NIH Category available   \n",
       "1659   No NIH Category available   \n",
       "1660   No NIH Category available   \n",
       "\n",
       "                                        Project Terms  \\\n",
       "0     Medical;Scientist;South Texas;Training Programs   \n",
       "1     Medical;Scientist;South Texas;Training Programs   \n",
       "2                 Medical;Scientist;Training Programs   \n",
       "3                 Medical;Scientist;Training Programs   \n",
       "4                 Medical;Scientist;Training Programs   \n",
       "...                                               ...   \n",
       "1656                                                    \n",
       "1657                                                    \n",
       "1658                                                    \n",
       "1659                                                    \n",
       "1660                                                    \n",
       "\n",
       "                                          Project Title  \\\n",
       "0     South Texas Medical Scientist Training Program...   \n",
       "1     South Texas Medical Scientist Training Program...   \n",
       "2                    Medical Scientist Training Program   \n",
       "3                    Medical Scientist Training Program   \n",
       "4                    Medical Scientist Training Program   \n",
       "...                                                 ...   \n",
       "1656   MEDICAL SCIENTIST NATINAL RESEARCH SERVICE AWARD   \n",
       "1657  NATIONAL RESEARCH SERVICE AWARD - MEDICAL SCIE...   \n",
       "1658  MEDICAL SCIENTIST TRAINING PROGRAM MOLECULAR G...   \n",
       "1659  MEDICAL SCIENTIST NATIONAL RESEARCH SERVICE AWARD   \n",
       "1660     MOUNT SINAI MEDICAL SCIENTIST TRAINING PROGRAM   \n",
       "\n",
       "                                Public Health Relevance Administering IC  \\\n",
       "0     Project Narrative:\\nThe South Texas MSTP train...            NIGMS   \n",
       "1     Project Narrative:\\nThe South Texas MSTP train...            NIGMS   \n",
       "2     Project Narrative\\nThe CWRU Medical Scientist ...            NIGMS   \n",
       "3     MSTP Project Narrative\\nProgress towards solvi...            NIGMS   \n",
       "4     MSTP Project Narrative\\nProgress towards solvi...            NIGMS   \n",
       "...                                                 ...              ...   \n",
       "1656                                                NaN            NIGMS   \n",
       "1657                                                NaN            NIGMS   \n",
       "1658                                                NaN            NIGMS   \n",
       "1659                                                NaN            NIGMS   \n",
       "1660                                                NaN            NIGMS   \n",
       "\n",
       "      Application ID      Award Notice Date         FOA     Project Number  \\\n",
       "0           10158492  5/24/2021 12:00:00 AM   PA-16-152    5T32GM113896-04   \n",
       "1           10377635  6/28/2021 12:00:00 AM   PA-16-152  3T32GM113896-04S1   \n",
       "2           10438947  6/29/2021 12:00:00 AM   PA-16-152  3T32GM007250-46S1   \n",
       "3           10444400  8/12/2021 12:00:00 AM  PAR-19-036  3T32GM136577-02S1   \n",
       "4           10204051  5/25/2021 12:00:00 AM  PAR-19-036    5T32GM136577-02   \n",
       "...              ...                    ...         ...                ...   \n",
       "1656         3537180                                     2T32GM007281-11A1   \n",
       "1657         3536983                                       2T32GM007200-11   \n",
       "1658         3024631                                       1F31GM010832-01   \n",
       "1659         3537221                                       2T32GM007308-11   \n",
       "1660         3537173                                       5T32GM007280-09   \n",
       "\n",
       "      Type  ...        Funding Mechanism Fiscal Year  Total Cost  \\\n",
       "0        5  ...  Training, Institutional        2021               \n",
       "1        3  ...  Training, Institutional        2021               \n",
       "2        3  ...  Training, Institutional        2021               \n",
       "3        3  ...  Training, Institutional        2021               \n",
       "4        5  ...  Training, Institutional        2021               \n",
       "...    ...  ...                      ...         ...         ...   \n",
       "1656     2  ...                                 1985               \n",
       "1657     2  ...                                 1985               \n",
       "1658     1  ...                                 1985               \n",
       "1659     2  ...                                 1985               \n",
       "1660     5  ...                                 1985               \n",
       "\n",
       "      Total Cost (Sub Projects) Funding IC(s) Direct Cost IC InDirect Cost IC  \\\n",
       "0                                       NIGMS         214580            12134   \n",
       "1                                        NIMH          42916             2427   \n",
       "2                                         NEI          51336             2427   \n",
       "3                                       NIAID          51336             2427   \n",
       "4                                       NIGMS        1642752            77660   \n",
       "...                         ...           ...            ...              ...   \n",
       "1656                                    NIGMS                                   \n",
       "1657                                    NIGMS                                   \n",
       "1658                                    NIGMS                                   \n",
       "1659                                    NIGMS                                   \n",
       "1660                                    NIGMS                                   \n",
       "\n",
       "     NIH COVID-19 Response Total Cost IC Unnamed: 52  \n",
       "0                                 226714         NaN  \n",
       "1                                  45343         NaN  \n",
       "2                                  53763         NaN  \n",
       "3                                  53763         NaN  \n",
       "4                                1720412         NaN  \n",
       "...                    ...           ...         ...  \n",
       "1656                             1047484         NaN  \n",
       "1657                              773014         NaN  \n",
       "1658                               18652         NaN  \n",
       "1659                              798322         NaN  \n",
       "1660                              316529         NaN  \n",
       "\n",
       "[1661 rows x 53 columns]"
      ]
     },
     "execution_count": 57,
     "metadata": {},
     "output_type": "execute_result"
    }
   ],
   "source": [
    "main_filepath = \"C:/Users/TooFastDan/Documents/MD_PhD Application/Docs2be\"\n",
    "mstp = pd.read_csv(main_filepath+\"/F30_T32 Grants/NIH Reporter/MSTP.csv\", header=6)\n",
    "#mstp = mstp[(mstp[\"Project Title\"].str.contains(\"medical\", case=False)) & (t32[\"Project Title\"].str.contains(\"scientist\", case=False))]  #filter for MSTP programs\n",
    "mstp[\"Total Cost IC\"] = pd.to_numeric(mstp[\"Total Cost IC\"])\n",
    "mstp[\"Organization Name\"] = [school.title() for school in mstp[\"Organization Name\"]]\n",
    "mstp[\"Organization Name\"] = mstp[\"Organization Name\"].replace({\"New York University School Of Medicine\": \"New York University\",\n",
    "                                                              \"Albert Einstein College Of Medicine, Inc\": \"Albert Einstein College Of Medicine\",\n",
    "                                                              \"Columbia Univ New York Morningside\": \"Columbia\",\n",
    "                                                              \"Columbia University Health Sciences\": \"Columbia\",\n",
    "                                                               \"Icahn School Of Medicine At Mount Sinai\": \"Icahn School of Medicine at Mount Sinai\",\n",
    "                                                              \"Mount Sinai School Of Medicine Of Cuny\": \"Icahn School of Medicine at Mount Sinai\"})\n",
    "mstp"
   ]
  },
  {
   "cell_type": "code",
   "execution_count": 58,
   "id": "52547b75-a536-4d9a-a9c5-002a40752dc5",
   "metadata": {},
   "outputs": [
    {
     "data": {
      "text/html": [
       "<div>\n",
       "<style scoped>\n",
       "    .dataframe tbody tr th:only-of-type {\n",
       "        vertical-align: middle;\n",
       "    }\n",
       "\n",
       "    .dataframe tbody tr th {\n",
       "        vertical-align: top;\n",
       "    }\n",
       "\n",
       "    .dataframe thead th {\n",
       "        text-align: right;\n",
       "    }\n",
       "</style>\n",
       "<table border=\"1\" class=\"dataframe\">\n",
       "  <thead>\n",
       "    <tr style=\"text-align: right;\">\n",
       "      <th></th>\n",
       "      <th>Organization Name</th>\n",
       "      <th>Fiscal Year</th>\n",
       "      <th>Total Cost IC</th>\n",
       "    </tr>\n",
       "  </thead>\n",
       "  <tbody>\n",
       "    <tr>\n",
       "      <th>0</th>\n",
       "      <td>Albert Einstein College Of Medicine</td>\n",
       "      <td>1985</td>\n",
       "      <td>810983</td>\n",
       "    </tr>\n",
       "    <tr>\n",
       "      <th>1</th>\n",
       "      <td>Albert Einstein College Of Medicine</td>\n",
       "      <td>1986</td>\n",
       "      <td>732497</td>\n",
       "    </tr>\n",
       "    <tr>\n",
       "      <th>2</th>\n",
       "      <td>Albert Einstein College Of Medicine</td>\n",
       "      <td>1987</td>\n",
       "      <td>837278</td>\n",
       "    </tr>\n",
       "    <tr>\n",
       "      <th>3</th>\n",
       "      <td>Albert Einstein College Of Medicine</td>\n",
       "      <td>1988</td>\n",
       "      <td>799591</td>\n",
       "    </tr>\n",
       "    <tr>\n",
       "      <th>4</th>\n",
       "      <td>Albert Einstein College Of Medicine</td>\n",
       "      <td>1989</td>\n",
       "      <td>786828</td>\n",
       "    </tr>\n",
       "    <tr>\n",
       "      <th>...</th>\n",
       "      <td>...</td>\n",
       "      <td>...</td>\n",
       "      <td>...</td>\n",
       "    </tr>\n",
       "    <tr>\n",
       "      <th>1256</th>\n",
       "      <td>Yale University</td>\n",
       "      <td>2017</td>\n",
       "      <td>2374130</td>\n",
       "    </tr>\n",
       "    <tr>\n",
       "      <th>1257</th>\n",
       "      <td>Yale University</td>\n",
       "      <td>2018</td>\n",
       "      <td>2397976</td>\n",
       "    </tr>\n",
       "    <tr>\n",
       "      <th>1258</th>\n",
       "      <td>Yale University</td>\n",
       "      <td>2019</td>\n",
       "      <td>2318282</td>\n",
       "    </tr>\n",
       "    <tr>\n",
       "      <th>1259</th>\n",
       "      <td>Yale University</td>\n",
       "      <td>2020</td>\n",
       "      <td>2181430</td>\n",
       "    </tr>\n",
       "    <tr>\n",
       "      <th>1260</th>\n",
       "      <td>Yale University</td>\n",
       "      <td>2021</td>\n",
       "      <td>2344412</td>\n",
       "    </tr>\n",
       "  </tbody>\n",
       "</table>\n",
       "<p>1261 rows × 3 columns</p>\n",
       "</div>"
      ],
      "text/plain": [
       "                        Organization Name  Fiscal Year  Total Cost IC\n",
       "0     Albert Einstein College Of Medicine         1985         810983\n",
       "1     Albert Einstein College Of Medicine         1986         732497\n",
       "2     Albert Einstein College Of Medicine         1987         837278\n",
       "3     Albert Einstein College Of Medicine         1988         799591\n",
       "4     Albert Einstein College Of Medicine         1989         786828\n",
       "...                                   ...          ...            ...\n",
       "1256                      Yale University         2017        2374130\n",
       "1257                      Yale University         2018        2397976\n",
       "1258                      Yale University         2019        2318282\n",
       "1259                      Yale University         2020        2181430\n",
       "1260                      Yale University         2021        2344412\n",
       "\n",
       "[1261 rows x 3 columns]"
      ]
     },
     "execution_count": 58,
     "metadata": {},
     "output_type": "execute_result"
    }
   ],
   "source": [
    "mstp_gb = mstp.groupby([\"Organization Name\", \"Fiscal Year\"])\n",
    "mstp_sums = mstp_gb[\"Total Cost IC\"].sum().reset_index()\n",
    "mstp_sums"
   ]
  },
  {
   "cell_type": "code",
   "execution_count": 59,
   "id": "80f85347-894a-41f1-81c6-d91d395079c1",
   "metadata": {},
   "outputs": [
    {
     "data": {
      "text/plain": [
       "array(['Albert Einstein College Of Medicine',\n",
       "       'Baylor College Of Medicine', 'Boston University Medical Campus',\n",
       "       'Case Western Reserve University', 'Colorado State University',\n",
       "       'Columbia', 'Duke University', 'Emory University',\n",
       "       'Harvard Medical School',\n",
       "       'Icahn School of Medicine at Mount Sinai',\n",
       "       'Indiana Univ-Purdue Univ At Indianapolis',\n",
       "       'Johns Hopkins University', 'Mayo Clinic Rochester',\n",
       "       'Medical College Of Wisconsin', 'New York University',\n",
       "       'Northwestern University At Chicago', 'Ohio State University',\n",
       "       'Oregon Health & Science University',\n",
       "       'Pennsylvania State Univ Hershey Med Ctr', 'Stanford University',\n",
       "       'State University New York Stony Brook', 'Tufts University Boston',\n",
       "       'Univ Of Massachusetts Med Sch Worcester',\n",
       "       'Univ Of North Carolina Chapel Hill',\n",
       "       'University Of Alabama At Birmingham',\n",
       "       'University Of California At Davis',\n",
       "       'University Of California Los Angeles',\n",
       "       'University Of California, San Diego',\n",
       "       'University Of California, San Francisco',\n",
       "       'University Of California-Irvine', 'University Of Chicago',\n",
       "       'University Of Cincinnati', 'University Of Colorado Denver',\n",
       "       'University Of Connecticut Sch Of Med/Dnt',\n",
       "       'University Of Illinois At Chicago', 'University Of Iowa',\n",
       "       'University Of Kansas Medical Center',\n",
       "       'University Of Maryland Baltimore',\n",
       "       'University Of Miami School Of Medicine',\n",
       "       'University Of Michigan At Ann Arbor', 'University Of Minnesota',\n",
       "       'University Of Pennsylvania',\n",
       "       'University Of Pittsburgh At Pittsburgh',\n",
       "       'University Of Rochester',\n",
       "       'University Of Texas Hlth Sci Ctr Houston',\n",
       "       'University Of Texas Hlth Science Center',\n",
       "       'University Of Virginia', 'University Of Washington',\n",
       "       'Ut Southwestern Medical Center', 'Vanderbilt University',\n",
       "       'Washington University', 'Yale University'], dtype=object)"
      ]
     },
     "execution_count": 59,
     "metadata": {},
     "output_type": "execute_result"
    }
   ],
   "source": [
    "mstp_sums[\"Organization Name\"].unique()"
   ]
  },
  {
   "cell_type": "code",
   "execution_count": 14,
   "id": "d718e92d-114f-4903-bcf0-90574ed4902f",
   "metadata": {},
   "outputs": [
    {
     "name": "stdin",
     "output_type": "stream",
     "text": [
      "Please type a school name (or type 'done' if you are finished):  University Of Colorado Denver\n",
      "Please type a school name (or type 'done' if you are finished):  Case Western Reserve University\n",
      "Please type a school name (or type 'done' if you are finished):  University Of California-Irvine\n",
      "Please type a school name (or type 'done' if you are finished):  State University New York Stony Brook\n",
      "Please type a school name (or type 'done' if you are finished):  done\n"
     ]
    },
    {
     "data": {
      "text/html": [
       "<div>\n",
       "<style scoped>\n",
       "    .dataframe tbody tr th:only-of-type {\n",
       "        vertical-align: middle;\n",
       "    }\n",
       "\n",
       "    .dataframe tbody tr th {\n",
       "        vertical-align: top;\n",
       "    }\n",
       "\n",
       "    .dataframe thead th {\n",
       "        text-align: right;\n",
       "    }\n",
       "</style>\n",
       "<table border=\"1\" class=\"dataframe\">\n",
       "  <thead>\n",
       "    <tr style=\"text-align: right;\">\n",
       "      <th></th>\n",
       "      <th>Organization Name</th>\n",
       "      <th>Fiscal Year</th>\n",
       "      <th>Total Cost IC</th>\n",
       "    </tr>\n",
       "  </thead>\n",
       "  <tbody>\n",
       "    <tr>\n",
       "      <th>57</th>\n",
       "      <td>Case Western Reserve University</td>\n",
       "      <td>1985</td>\n",
       "      <td>345010</td>\n",
       "    </tr>\n",
       "    <tr>\n",
       "      <th>58</th>\n",
       "      <td>Case Western Reserve University</td>\n",
       "      <td>1986</td>\n",
       "      <td>403042</td>\n",
       "    </tr>\n",
       "    <tr>\n",
       "      <th>59</th>\n",
       "      <td>Case Western Reserve University</td>\n",
       "      <td>1987</td>\n",
       "      <td>517864</td>\n",
       "    </tr>\n",
       "    <tr>\n",
       "      <th>60</th>\n",
       "      <td>Case Western Reserve University</td>\n",
       "      <td>1990</td>\n",
       "      <td>668573</td>\n",
       "    </tr>\n",
       "    <tr>\n",
       "      <th>61</th>\n",
       "      <td>Case Western Reserve University</td>\n",
       "      <td>1991</td>\n",
       "      <td>681212</td>\n",
       "    </tr>\n",
       "    <tr>\n",
       "      <th>...</th>\n",
       "      <td>...</td>\n",
       "      <td>...</td>\n",
       "      <td>...</td>\n",
       "    </tr>\n",
       "    <tr>\n",
       "      <th>621</th>\n",
       "      <td>University Of Colorado Denver</td>\n",
       "      <td>2017</td>\n",
       "      <td>766416</td>\n",
       "    </tr>\n",
       "    <tr>\n",
       "      <th>622</th>\n",
       "      <td>University Of Colorado Denver</td>\n",
       "      <td>2018</td>\n",
       "      <td>834079</td>\n",
       "    </tr>\n",
       "    <tr>\n",
       "      <th>623</th>\n",
       "      <td>University Of Colorado Denver</td>\n",
       "      <td>2019</td>\n",
       "      <td>1000564</td>\n",
       "    </tr>\n",
       "    <tr>\n",
       "      <th>624</th>\n",
       "      <td>University Of Colorado Denver</td>\n",
       "      <td>2020</td>\n",
       "      <td>1010906</td>\n",
       "    </tr>\n",
       "    <tr>\n",
       "      <th>625</th>\n",
       "      <td>University Of Colorado Denver</td>\n",
       "      <td>2021</td>\n",
       "      <td>860206</td>\n",
       "    </tr>\n",
       "  </tbody>\n",
       "</table>\n",
       "<p>86 rows × 3 columns</p>\n",
       "</div>"
      ],
      "text/plain": [
       "                   Organization Name  Fiscal Year  Total Cost IC\n",
       "57   Case Western Reserve University         1985         345010\n",
       "58   Case Western Reserve University         1986         403042\n",
       "59   Case Western Reserve University         1987         517864\n",
       "60   Case Western Reserve University         1990         668573\n",
       "61   Case Western Reserve University         1991         681212\n",
       "..                               ...          ...            ...\n",
       "621    University Of Colorado Denver         2017         766416\n",
       "622    University Of Colorado Denver         2018         834079\n",
       "623    University Of Colorado Denver         2019        1000564\n",
       "624    University Of Colorado Denver         2020        1010906\n",
       "625    University Of Colorado Denver         2021         860206\n",
       "\n",
       "[86 rows x 3 columns]"
      ]
     },
     "execution_count": 14,
     "metadata": {},
     "output_type": "execute_result"
    }
   ],
   "source": [
    "school_names = []\n",
    "while True:\n",
    "    inp = input(\"Please type a school name (or type 'done' if you are finished): \")\n",
    "    if inp == \"done\":\n",
    "        break\n",
    "    else:\n",
    "        school_names.append(inp)\n",
    "mstp_select = mstp_sums[mstp_sums[\"Organization Name\"].isin(school_names)]\n",
    "mstp_select"
   ]
  },
  {
   "cell_type": "code",
   "execution_count": 60,
   "id": "3eadc964-46e5-430d-8479-2036a191e083",
   "metadata": {},
   "outputs": [
    {
     "data": {
      "application/vnd.plotly.v1+json": {
       "config": {
        "plotlyServerURL": "https://plot.ly"
       },
       "data": [
        {
         "hovertemplate": "Organization Name=Albert Einstein College Of Medicine<br>Fiscal Year=%{x}<br>Total Cost IC=%{y}<extra></extra>",
         "legendgroup": "Albert Einstein College Of Medicine",
         "line": {
          "color": "#636efa",
          "dash": "solid"
         },
         "marker": {
          "symbol": "circle"
         },
         "mode": "markers+lines",
         "name": "Albert Einstein College Of Medicine",
         "showlegend": true,
         "type": "scattergl",
         "visible": "legendonly",
         "x": [
          1985,
          1986,
          1987,
          1988,
          1989,
          1990,
          1991,
          1992,
          1993,
          1994,
          1995,
          1996,
          1997,
          1998,
          1999,
          2000,
          2001,
          2002,
          2003,
          2004,
          2005,
          2006,
          2007,
          2008,
          2009,
          2010,
          2011,
          2012,
          2013,
          2014,
          2015,
          2016,
          2017,
          2018,
          2019,
          2020,
          2021
         ],
         "xaxis": "x",
         "y": [
          810983,
          732497,
          837278,
          799591,
          786828,
          808201,
          817597,
          816038,
          768111,
          800809,
          805459,
          805958,
          852562,
          938261,
          1140385,
          1183322,
          1233088,
          1297231,
          1555790,
          1583576,
          1534090,
          1534090,
          1534090,
          1545401,
          1552451,
          1559501,
          1524828,
          1539287,
          1390328,
          1403754,
          1619635,
          1720718,
          1651513,
          1668157,
          1685161,
          1702579,
          1720412
         ],
         "yaxis": "y"
        },
        {
         "hovertemplate": "Organization Name=Baylor College Of Medicine<br>Fiscal Year=%{x}<br>Total Cost IC=%{y}<extra></extra>",
         "legendgroup": "Baylor College Of Medicine",
         "line": {
          "color": "#EF553B",
          "dash": "solid"
         },
         "marker": {
          "symbol": "circle"
         },
         "mode": "markers+lines",
         "name": "Baylor College Of Medicine",
         "showlegend": true,
         "type": "scattergl",
         "visible": true,
         "x": [
          1985,
          1986,
          1987,
          1988,
          1989,
          1990,
          1991,
          1992,
          1993,
          1994,
          1995,
          1996,
          1997,
          1998,
          1999,
          2000,
          2001,
          2002,
          2003,
          2004,
          2005,
          2006,
          2007,
          2008,
          2009,
          2010,
          2011,
          2012,
          2013,
          2014,
          2015,
          2016,
          2017,
          2018,
          2019,
          2020,
          2021
         ],
         "xaxis": "x",
         "y": [
          150921,
          166153,
          255715,
          230033,
          264198,
          268221,
          285858,
          285120,
          268822,
          304122,
          319284,
          337620,
          366546,
          331508,
          450859,
          536556,
          566105,
          604190,
          641372,
          631826,
          719132,
          719132,
          759083,
          799035,
          840111,
          797368,
          806440,
          815771,
          815771,
          866534,
          951521,
          916062,
          926170,
          936538,
          937717,
          1302319,
          1392409
         ],
         "yaxis": "y"
        },
        {
         "hovertemplate": "Organization Name=Boston University Medical Campus<br>Fiscal Year=%{x}<br>Total Cost IC=%{y}<extra></extra>",
         "legendgroup": "Boston University Medical Campus",
         "line": {
          "color": "#00cc96",
          "dash": "solid"
         },
         "marker": {
          "symbol": "circle"
         },
         "mode": "markers+lines",
         "name": "Boston University Medical Campus",
         "showlegend": true,
         "type": "scattergl",
         "visible": "legendonly",
         "x": [
          1985,
          1986
         ],
         "xaxis": "x",
         "y": [
          18652,
          19452
         ],
         "yaxis": "y"
        },
        {
         "hovertemplate": "Organization Name=Case Western Reserve University<br>Fiscal Year=%{x}<br>Total Cost IC=%{y}<extra></extra>",
         "legendgroup": "Case Western Reserve University",
         "line": {
          "color": "#ab63fa",
          "dash": "solid"
         },
         "marker": {
          "symbol": "circle"
         },
         "mode": "markers+lines",
         "name": "Case Western Reserve University",
         "showlegend": true,
         "type": "scattergl",
         "visible": "legendonly",
         "x": [
          1985,
          1986,
          1987,
          1988,
          1989,
          1990,
          1991,
          1992,
          1993,
          1994,
          1995,
          1996,
          1997,
          1998,
          1999,
          2000,
          2001,
          2002,
          2003,
          2004,
          2005,
          2006,
          2007,
          2008,
          2009,
          2010,
          2011,
          2012,
          2013,
          2014,
          2015,
          2016,
          2017,
          2018,
          2019,
          2020,
          2021
         ],
         "xaxis": "x",
         "y": [
          345010,
          403042,
          517864,
          559444,
          613477,
          668573,
          681212,
          681212,
          668636,
          785818,
          783860,
          785810,
          830807,
          837625,
          1035711,
          1077306,
          1125517,
          1187656,
          1248322,
          1334573,
          1288553,
          1242534,
          1242534,
          1242534,
          1406908,
          1413298,
          1328076,
          1340673,
          1291019,
          1303486,
          1518409,
          1533182,
          1599958,
          1554652,
          1579838,
          1596168,
          1559124
         ],
         "yaxis": "y"
        },
        {
         "hovertemplate": "Organization Name=Colorado State University<br>Fiscal Year=%{x}<br>Total Cost IC=%{y}<extra></extra>",
         "legendgroup": "Colorado State University",
         "line": {
          "color": "#FFA15A",
          "dash": "solid"
         },
         "marker": {
          "symbol": "circle"
         },
         "mode": "markers+lines",
         "name": "Colorado State University",
         "showlegend": true,
         "type": "scattergl",
         "visible": "legendonly",
         "x": [
          2020,
          2021
         ],
         "xaxis": "x",
         "y": [
          212822,
          215052
         ],
         "yaxis": "y"
        },
        {
         "hovertemplate": "Organization Name=Columbia<br>Fiscal Year=%{x}<br>Total Cost IC=%{y}<extra></extra>",
         "legendgroup": "Columbia",
         "line": {
          "color": "#19d3f3",
          "dash": "solid"
         },
         "marker": {
          "symbol": "circle"
         },
         "mode": "markers+lines",
         "name": "Columbia",
         "showlegend": true,
         "type": "scattergl",
         "visible": "legendonly",
         "x": [
          1985,
          1986,
          1987,
          1988,
          1989,
          1990,
          1991,
          1992,
          1993,
          1994,
          1995,
          1996,
          1997,
          1998,
          1999,
          2000,
          2001,
          2002,
          2003,
          2004,
          2005,
          2006,
          2007,
          2008,
          2009,
          2010,
          2011,
          2012,
          2013,
          2014,
          2015,
          2016,
          2017,
          2018,
          2019,
          2020,
          2021
         ],
         "xaxis": "x",
         "y": [
          451601,
          442560,
          571294,
          643924,
          701644,
          826650,
          951214,
          1008309,
          955828,
          1059510,
          1044269,
          998887,
          1055133,
          1064140,
          722881,
          749716,
          779524,
          889030,
          928169,
          945535,
          863447,
          1040089,
          1255638,
          1255638,
          1164338,
          1169626,
          1165649,
          1191709,
          1092400,
          1203218,
          1417182,
          1389508,
          1393512,
          1355378,
          1316532,
          1330140,
          1180110
         ],
         "yaxis": "y"
        },
        {
         "hovertemplate": "Organization Name=Duke University<br>Fiscal Year=%{x}<br>Total Cost IC=%{y}<extra></extra>",
         "legendgroup": "Duke University",
         "line": {
          "color": "#FF6692",
          "dash": "solid"
         },
         "marker": {
          "symbol": "circle"
         },
         "mode": "markers+lines",
         "name": "Duke University",
         "showlegend": true,
         "type": "scattergl",
         "visible": "legendonly",
         "x": [
          1985,
          1986,
          1987,
          1988,
          1989,
          1990,
          1991,
          1992,
          1993,
          1994,
          1995,
          1996,
          1997,
          1998,
          1999,
          2000,
          2001,
          2002,
          2003,
          2004,
          2005,
          2006,
          2007,
          2008,
          2009,
          2010,
          2011,
          2012,
          2013,
          2014,
          2015,
          2016,
          2017,
          2018,
          2019,
          2020,
          2021
         ],
         "xaxis": "x",
         "y": [
          622743,
          605970,
          648598,
          600536,
          651795,
          655309,
          643890,
          665353,
          690492,
          747681,
          749040,
          749387,
          932982,
          943409,
          1177597,
          1225901,
          1224414,
          1440033,
          1547332,
          1578591,
          1534742,
          1438722,
          1593694,
          1545401,
          1552451,
          1656968,
          1649626,
          1489638,
          1291019,
          1353618,
          1467795,
          1327249,
          1238676,
          1251118,
          1263871,
          1276934,
          1283796
         ],
         "yaxis": "y"
        },
        {
         "hovertemplate": "Organization Name=Emory University<br>Fiscal Year=%{x}<br>Total Cost IC=%{y}<extra></extra>",
         "legendgroup": "Emory University",
         "line": {
          "color": "#B6E880",
          "dash": "solid"
         },
         "marker": {
          "symbol": "circle"
         },
         "mode": "markers+lines",
         "name": "Emory University",
         "showlegend": true,
         "type": "scattergl",
         "visible": "legendonly",
         "x": [
          1987,
          1988,
          1989,
          1990,
          1991,
          1992,
          1993,
          1994,
          1995,
          1996,
          1997,
          1998,
          1999,
          2000,
          2001,
          2007,
          2008,
          2009,
          2010,
          2011,
          2012,
          2013,
          2014,
          2015,
          2016,
          2017,
          2018,
          2019,
          2020,
          2021
         ],
         "xaxis": "x",
         "y": [
          41992,
          84417,
          137605,
          194496,
          246900,
          296280,
          304968,
          347027,
          347027,
          347027,
          438043,
          442397,
          556795,
          580946,
          608940,
          917582,
          917582,
          873253,
          877219,
          884544,
          893782,
          943437,
          952546,
          961659,
          1045533,
          1083842,
          1146858,
          1158548,
          1170523,
          1219907
         ],
         "yaxis": "y"
        },
        {
         "hovertemplate": "Organization Name=Harvard Medical School<br>Fiscal Year=%{x}<br>Total Cost IC=%{y}<extra></extra>",
         "legendgroup": "Harvard Medical School",
         "line": {
          "color": "#FF97FF",
          "dash": "solid"
         },
         "marker": {
          "symbol": "circle"
         },
         "mode": "markers+lines",
         "name": "Harvard Medical School",
         "showlegend": true,
         "type": "scattergl",
         "visible": "legendonly",
         "x": [
          1988,
          1989,
          1990,
          1991,
          1992,
          2017,
          2018,
          2019,
          2020,
          2021
         ],
         "xaxis": "x",
         "y": [
          1013707,
          1064564,
          1267790,
          1322592,
          1351344,
          2528965,
          2554366,
          2633064,
          2607075,
          2733697
         ],
         "yaxis": "y"
        },
        {
         "hovertemplate": "Organization Name=Icahn School of Medicine at Mount Sinai<br>Fiscal Year=%{x}<br>Total Cost IC=%{y}<extra></extra>",
         "legendgroup": "Icahn School of Medicine at Mount Sinai",
         "line": {
          "color": "#FECB52",
          "dash": "solid"
         },
         "marker": {
          "symbol": "circle"
         },
         "mode": "markers+lines",
         "name": "Icahn School of Medicine at Mount Sinai",
         "showlegend": true,
         "type": "scattergl",
         "visible": "legendonly",
         "x": [
          1985,
          1986,
          1987,
          1988,
          1989,
          1990,
          1991,
          1992,
          1993,
          1994,
          1995,
          1996,
          1997,
          1998,
          1999,
          2000,
          2001,
          2007,
          2008,
          2009,
          2010,
          2011,
          2012,
          2013,
          2014,
          2015,
          2016,
          2017,
          2018,
          2019,
          2020,
          2021
         ],
         "xaxis": "x",
         "y": [
          316529,
          321346,
          277131,
          306482,
          338040,
          354531,
          360180,
          414817,
          394114,
          481139,
          480845,
          511478,
          517811,
          526155,
          680564,
          691840,
          665183,
          1062067,
          1062067,
          1115410,
          1120477,
          1174413,
          1191711,
          1092401,
          1102950,
          1164113,
          1025286,
          1135453,
          1303248,
          1263871,
          1276934,
          1375968
         ],
         "yaxis": "y"
        },
        {
         "hovertemplate": "Organization Name=Indiana Univ-Purdue Univ At Indianapolis<br>Fiscal Year=%{x}<br>Total Cost IC=%{y}<extra></extra>",
         "legendgroup": "Indiana Univ-Purdue Univ At Indianapolis",
         "line": {
          "color": "#636efa",
          "dash": "solid"
         },
         "marker": {
          "symbol": "circle"
         },
         "mode": "markers+lines",
         "name": "Indiana Univ-Purdue Univ At Indianapolis",
         "showlegend": true,
         "type": "scattergl",
         "visible": "legendonly",
         "x": [
          2008,
          2009,
          2010,
          2011,
          2012,
          2013,
          2014,
          2015,
          2016,
          2017,
          2018,
          2019,
          2020,
          2021
         ],
         "xaxis": "x",
         "y": [
          88162,
          177204,
          222607,
          269850,
          264806,
          386158,
          389993,
          393829,
          456927,
          379415,
          414683,
          523673,
          740762,
          860638
         ],
         "yaxis": "y"
        },
        {
         "hovertemplate": "Organization Name=Johns Hopkins University<br>Fiscal Year=%{x}<br>Total Cost IC=%{y}<extra></extra>",
         "legendgroup": "Johns Hopkins University",
         "line": {
          "color": "#EF553B",
          "dash": "solid"
         },
         "marker": {
          "symbol": "circle"
         },
         "mode": "markers+lines",
         "name": "Johns Hopkins University",
         "showlegend": true,
         "type": "scattergl",
         "visible": "legendonly",
         "x": [
          1985,
          1986,
          1987,
          1988,
          1989,
          1990,
          1991,
          1992,
          1993,
          1994,
          1995,
          1996,
          1997,
          1998,
          1999,
          2000,
          2001,
          2002,
          2003,
          2004,
          2005,
          2006,
          2007,
          2008,
          2009,
          2010,
          2011,
          2012,
          2013,
          2014,
          2015,
          2016,
          2017,
          2018,
          2019,
          2020,
          2021
         ],
         "xaxis": "x",
         "y": [
          880665,
          881455,
          1005115,
          983926,
          1080749,
          1190143,
          1211424,
          1211424,
          1224513,
          1289858,
          1288557,
          1288723,
          1364254,
          1377045,
          1621049,
          1832440,
          1910200,
          2010424,
          2108272,
          2120513,
          2260799,
          2194526,
          2023993,
          2260799,
          2329999,
          2534188,
          2606964,
          2528978,
          1905024,
          2132661,
          2277614,
          2197561,
          1961239,
          2033067,
          1937838,
          1755785,
          1774175
         ],
         "yaxis": "y"
        },
        {
         "hovertemplate": "Organization Name=Mayo Clinic Rochester<br>Fiscal Year=%{x}<br>Total Cost IC=%{y}<extra></extra>",
         "legendgroup": "Mayo Clinic Rochester",
         "line": {
          "color": "#00cc96",
          "dash": "solid"
         },
         "marker": {
          "symbol": "circle"
         },
         "mode": "markers+lines",
         "name": "Mayo Clinic Rochester",
         "showlegend": true,
         "type": "scattergl",
         "visible": "legendonly",
         "x": [
          2003,
          2004,
          2005,
          2006,
          2007,
          2008,
          2009,
          2010,
          2011,
          2012,
          2013,
          2014,
          2015,
          2016,
          2017,
          2018,
          2019,
          2020,
          2021
         ],
         "xaxis": "x",
         "y": [
          92043,
          140669,
          183879,
          183879,
          126167,
          228203,
          229524,
          230846,
          194640,
          143446,
          271827,
          274704,
          277582,
          280536,
          228053,
          364909,
          526613,
          638467,
          645155
         ],
         "yaxis": "y"
        },
        {
         "hovertemplate": "Organization Name=Medical College Of Wisconsin<br>Fiscal Year=%{x}<br>Total Cost IC=%{y}<extra></extra>",
         "legendgroup": "Medical College Of Wisconsin",
         "line": {
          "color": "#ab63fa",
          "dash": "solid"
         },
         "marker": {
          "symbol": "circle"
         },
         "mode": "markers+lines",
         "name": "Medical College Of Wisconsin",
         "showlegend": true,
         "type": "scattergl",
         "visible": "legendonly",
         "x": [
          2010,
          2011,
          2012,
          2013,
          2014,
          2015,
          2016,
          2017,
          2018,
          2019,
          2020,
          2021
         ],
         "xaxis": "x",
         "y": [
          97469,
          196752,
          198618,
          198618,
          188157,
          253068,
          357742,
          309669,
          312780,
          452085,
          425645,
          591392
         ],
         "yaxis": "y"
        },
        {
         "hovertemplate": "Organization Name=New York University<br>Fiscal Year=%{x}<br>Total Cost IC=%{y}<extra></extra>",
         "legendgroup": "New York University",
         "line": {
          "color": "#FFA15A",
          "dash": "solid"
         },
         "marker": {
          "symbol": "circle"
         },
         "mode": "markers+lines",
         "name": "New York University",
         "showlegend": true,
         "type": "scattergl",
         "visible": "legendonly",
         "x": [
          1985,
          1986,
          1987,
          1988,
          1989,
          1990,
          1991,
          1992,
          1993,
          1994,
          1995,
          1996,
          1997,
          1998,
          1999,
          2000,
          2001,
          2002,
          2003,
          2004,
          2005,
          2006,
          2007,
          2008,
          2009,
          2010,
          2011,
          2012,
          2013,
          2014,
          2015,
          2016,
          2017,
          2018,
          2019,
          2020,
          2021
         ],
         "xaxis": "x",
         "y": [
          798322,
          805074,
          910717,
          889000,
          963322,
          1058095,
          1065260,
          1066364,
          970415,
          1061464,
          897354,
          813875,
          771464,
          805703,
          960597,
          999508,
          1015769,
          1083927,
          1254698,
          1226209,
          1279879,
          1208547,
          1299579,
          662006,
          279084,
          1413298,
          1426452,
          1439982,
          1241364,
          1051692,
          1265340,
          1277652,
          1290288,
          1303248,
          1176652,
          1170523,
          1236546
         ],
         "yaxis": "y"
        },
        {
         "hovertemplate": "Organization Name=Northwestern University At Chicago<br>Fiscal Year=%{x}<br>Total Cost IC=%{y}<extra></extra>",
         "legendgroup": "Northwestern University At Chicago",
         "line": {
          "color": "#19d3f3",
          "dash": "solid"
         },
         "marker": {
          "symbol": "circle"
         },
         "mode": "markers+lines",
         "name": "Northwestern University At Chicago",
         "showlegend": true,
         "type": "scattergl",
         "visible": "legendonly",
         "x": [
          1987,
          1988,
          1989,
          1990,
          1991,
          1992,
          1993,
          1994,
          1995,
          1996,
          1997,
          1998,
          1999,
          2000,
          2001,
          2002,
          2003,
          2004,
          2005,
          2006,
          2007,
          2008,
          2009,
          2010,
          2011,
          2012,
          2013,
          2014,
          2015,
          2016,
          2017,
          2018,
          2019,
          2020,
          2021
         ],
         "xaxis": "x",
         "y": [
          60284,
          120569,
          186896,
          240258,
          317680,
          381216,
          338382,
          434243,
          465250,
          403216,
          459728,
          463538,
          582289,
          609693,
          619150,
          892647,
          927872,
          943502,
          943502,
          929318,
          965875,
          965875,
          970282,
          1023422,
          1023467,
          1042746,
          1092400,
          1153084,
          1265340,
          1224174,
          1393511,
          1407508,
          1531802,
          1436551,
          1648055
         ],
         "yaxis": "y"
        },
        {
         "hovertemplate": "Organization Name=Ohio State University<br>Fiscal Year=%{x}<br>Total Cost IC=%{y}<extra></extra>",
         "legendgroup": "Ohio State University",
         "line": {
          "color": "#FF6692",
          "dash": "solid"
         },
         "marker": {
          "symbol": "circle"
         },
         "mode": "markers+lines",
         "name": "Ohio State University",
         "showlegend": true,
         "type": "scattergl",
         "visible": "legendonly",
         "x": [
          2011,
          2012,
          2013,
          2014,
          2015,
          2016,
          2017,
          2018,
          2019,
          2020,
          2021
         ],
         "xaxis": "x",
         "y": [
          98376,
          198618,
          297927,
          300804,
          195461,
          442832,
          546792,
          502267,
          659858,
          507578,
          734296
         ],
         "yaxis": "y"
        },
        {
         "hovertemplate": "Organization Name=Oregon Health & Science University<br>Fiscal Year=%{x}<br>Total Cost IC=%{y}<extra></extra>",
         "legendgroup": "Oregon Health & Science University",
         "line": {
          "color": "#B6E880",
          "dash": "solid"
         },
         "marker": {
          "symbol": "circle"
         },
         "mode": "markers+lines",
         "name": "Oregon Health & Science University",
         "showlegend": true,
         "type": "scattergl",
         "visible": "legendonly",
         "x": [
          2004,
          2005,
          2006,
          2007,
          2008,
          2016,
          2017,
          2018,
          2019,
          2020,
          2021
         ],
         "xaxis": "x",
         "y": [
          144335,
          192447,
          188411,
          235514,
          235514,
          204424,
          206446,
          208520,
          263306,
          265820,
          860206
         ],
         "yaxis": "y"
        },
        {
         "hovertemplate": "Organization Name=Pennsylvania State Univ Hershey Med Ctr<br>Fiscal Year=%{x}<br>Total Cost IC=%{y}<extra></extra>",
         "legendgroup": "Pennsylvania State Univ Hershey Med Ctr",
         "line": {
          "color": "#FF97FF",
          "dash": "solid"
         },
         "marker": {
          "symbol": "circle"
         },
         "mode": "markers+lines",
         "name": "Pennsylvania State Univ Hershey Med Ctr",
         "showlegend": true,
         "type": "scattergl",
         "visible": "legendonly",
         "x": [
          1998,
          1999,
          2000,
          2001,
          2002,
          2003
         ],
         "xaxis": "x",
         "y": [
          61326,
          135784,
          156769,
          164545,
          174567,
          70771
         ],
         "yaxis": "y"
        },
        {
         "hovertemplate": "Organization Name=Stanford University<br>Fiscal Year=%{x}<br>Total Cost IC=%{y}<extra></extra>",
         "legendgroup": "Stanford University",
         "line": {
          "color": "#FECB52",
          "dash": "solid"
         },
         "marker": {
          "symbol": "circle"
         },
         "mode": "markers+lines",
         "name": "Stanford University",
         "showlegend": true,
         "type": "scattergl",
         "visible": "legendonly",
         "x": [
          1985,
          1986,
          1987,
          1988,
          1989,
          1990,
          1991,
          1992,
          1993,
          1994,
          1995,
          1996,
          1997,
          1998,
          1999,
          2000,
          2001,
          2002,
          2003,
          2004,
          2005,
          2006,
          2007,
          2008,
          2009,
          2010,
          2011,
          2012,
          2013,
          2014,
          2015,
          2016,
          2017,
          2018,
          2019,
          2020,
          2021
         ],
         "xaxis": "x",
         "y": [
          755590,
          791874,
          862267,
          859234,
          998424,
          1077064,
          1090996,
          1081644,
          1092428,
          1176423,
          1185002,
          1180457,
          1185549,
          1196163,
          1345274,
          1437773,
          1670012,
          1752196,
          1816196,
          1996435,
          1943897,
          1891359,
          1891359,
          1885949,
          1067310,
          1072157,
          996411,
          1191710,
          1191709,
          1303486,
          1417181,
          1423911,
          1548346,
          1563898,
          1579838,
          1596168,
          1596051
         ],
         "yaxis": "y"
        },
        {
         "hovertemplate": "Organization Name=State University New York Stony Brook<br>Fiscal Year=%{x}<br>Total Cost IC=%{y}<extra></extra>",
         "legendgroup": "State University New York Stony Brook",
         "line": {
          "color": "#636efa",
          "dash": "solid"
         },
         "marker": {
          "symbol": "circle"
         },
         "mode": "markers+lines",
         "name": "State University New York Stony Brook",
         "showlegend": true,
         "type": "scattergl",
         "visible": "legendonly",
         "x": [
          1992,
          1993,
          1994,
          1995,
          1996,
          1997,
          1998,
          1999,
          2000,
          2001,
          2007,
          2008,
          2009,
          2010,
          2011,
          2012,
          2013,
          2014,
          2015,
          2016,
          2017,
          2018,
          2019,
          2020,
          2021
         ],
         "xaxis": "x",
         "y": [
          47524,
          84457,
          112346,
          142316,
          189436,
          238641,
          285569,
          404001,
          425469,
          420089,
          118187,
          118187,
          158464,
          299560,
          302736,
          306002,
          262287,
          338848,
          455522,
          459955,
          464504,
          469169,
          845800,
          851290,
          860206
         ],
         "yaxis": "y"
        },
        {
         "hovertemplate": "Organization Name=Tufts University Boston<br>Fiscal Year=%{x}<br>Total Cost IC=%{y}<extra></extra>",
         "legendgroup": "Tufts University Boston",
         "line": {
          "color": "#EF553B",
          "dash": "solid"
         },
         "marker": {
          "symbol": "circle"
         },
         "mode": "markers+lines",
         "name": "Tufts University Boston",
         "showlegend": true,
         "type": "scattergl",
         "visible": "legendonly",
         "x": [
          1994,
          1995,
          1996,
          1997,
          1998,
          1999,
          2000,
          2001,
          2002,
          2003,
          2004,
          2005,
          2006,
          2007,
          2008,
          2009,
          2010,
          2011,
          2013,
          2014,
          2015,
          2016,
          2017,
          2018,
          2019,
          2020,
          2021
         ],
         "xaxis": "x",
         "y": [
          66959,
          133919,
          183634,
          246197,
          300090,
          413523,
          428283,
          415764,
          467439,
          469738,
          190143,
          190143,
          151696,
          338056,
          434644,
          533655,
          438610,
          324052,
          297927,
          400594,
          455199,
          408849,
          341322,
          469169,
          579274,
          532056,
          537629
         ],
         "yaxis": "y"
        },
        {
         "hovertemplate": "Organization Name=Univ Of Massachusetts Med Sch Worcester<br>Fiscal Year=%{x}<br>Total Cost IC=%{y}<extra></extra>",
         "legendgroup": "Univ Of Massachusetts Med Sch Worcester",
         "line": {
          "color": "#00cc96",
          "dash": "solid"
         },
         "marker": {
          "symbol": "circle"
         },
         "mode": "markers+lines",
         "name": "Univ Of Massachusetts Med Sch Worcester",
         "showlegend": true,
         "type": "scattergl",
         "visible": "legendonly",
         "x": [
          2013,
          2014,
          2015,
          2016,
          2017,
          2018,
          2019,
          2020,
          2021
         ],
         "xaxis": "x",
         "y": [
          143274,
          145192,
          220668,
          298161,
          296254,
          521299,
          718335,
          744878,
          860206
         ],
         "yaxis": "y"
        },
        {
         "hovertemplate": "Organization Name=Univ Of North Carolina Chapel Hill<br>Fiscal Year=%{x}<br>Total Cost IC=%{y}<extra></extra>",
         "legendgroup": "Univ Of North Carolina Chapel Hill",
         "line": {
          "color": "#ab63fa",
          "dash": "solid"
         },
         "marker": {
          "symbol": "circle"
         },
         "mode": "markers+lines",
         "name": "Univ Of North Carolina Chapel Hill",
         "showlegend": true,
         "type": "scattergl",
         "visible": "legendonly",
         "x": [
          1999,
          2000,
          2001,
          2002,
          2003,
          2004,
          2005,
          2006,
          2007,
          2008,
          2009,
          2010,
          2011,
          2012,
          2013,
          2014,
          2015,
          2016,
          2017,
          2018,
          2019,
          2020,
          2021
         ],
         "xaxis": "x",
         "y": [
          90867,
          122891,
          178488,
          242780,
          289046,
          439958,
          439958,
          439958,
          439958,
          458846,
          444321,
          446524,
          451060,
          501299,
          573649,
          601608,
          809818,
          868803,
          877397,
          849991,
          1211209,
          1223185,
          1021495
         ],
         "yaxis": "y"
        },
        {
         "hovertemplate": "Organization Name=University Of Alabama At Birmingham<br>Fiscal Year=%{x}<br>Total Cost IC=%{y}<extra></extra>",
         "legendgroup": "University Of Alabama At Birmingham",
         "line": {
          "color": "#FFA15A",
          "dash": "solid"
         },
         "marker": {
          "symbol": "circle"
         },
         "mode": "markers+lines",
         "name": "University Of Alabama At Birmingham",
         "showlegend": true,
         "type": "scattergl",
         "visible": "legendonly",
         "x": [
          1992,
          1993,
          1994,
          1995,
          1996,
          1997,
          1998,
          1999,
          2000,
          2001,
          2002,
          2003,
          2004,
          2005,
          2006,
          2007,
          2008,
          2009,
          2010,
          2011,
          2012,
          2013,
          2014,
          2015,
          2016,
          2017,
          2018,
          2019,
          2020,
          2021
         ],
         "xaxis": "x",
         "y": [
          44702,
          91316,
          131970,
          165114,
          445967,
          512269,
          541835,
          566609,
          667027,
          698160,
          673877,
          697751,
          661505,
          509926,
          509926,
          509925,
          552419,
          462939,
          576928,
          541619,
          505560,
          589814,
          596311,
          728159,
          784249,
          890755,
          850358,
          882623,
          1013633,
          973789
         ],
         "yaxis": "y"
        },
        {
         "hovertemplate": "Organization Name=University Of California At Davis<br>Fiscal Year=%{x}<br>Total Cost IC=%{y}<extra></extra>",
         "legendgroup": "University Of California At Davis",
         "line": {
          "color": "#19d3f3",
          "dash": "solid"
         },
         "marker": {
          "symbol": "circle"
         },
         "mode": "markers+lines",
         "name": "University Of California At Davis",
         "showlegend": true,
         "type": "scattergl",
         "visible": "legendonly",
         "x": [
          2020,
          2021
         ],
         "xaxis": "x",
         "y": [
          249984,
          240174
         ],
         "yaxis": "y"
        },
        {
         "hovertemplate": "Organization Name=University Of California Los Angeles<br>Fiscal Year=%{x}<br>Total Cost IC=%{y}<extra></extra>",
         "legendgroup": "University Of California Los Angeles",
         "line": {
          "color": "#FF6692",
          "dash": "solid"
         },
         "marker": {
          "symbol": "circle"
         },
         "mode": "markers+lines",
         "name": "University Of California Los Angeles",
         "showlegend": true,
         "type": "scattergl",
         "visible": "legendonly",
         "x": [
          1985,
          1986,
          1987,
          1988,
          1989,
          1990,
          1991,
          1992,
          1993,
          1994,
          1995,
          1996,
          1997,
          1998,
          1999,
          2000,
          2001,
          2002,
          2003,
          2004,
          2005,
          2006,
          2007,
          2008,
          2009,
          2010,
          2011,
          2012,
          2013,
          2014,
          2015,
          2016,
          2017,
          2018,
          2019,
          2020,
          2021
         ],
         "xaxis": "x",
         "y": [
          115824,
          144416,
          155771,
          195410,
          248730,
          315574,
          360880,
          376909,
          431883,
          457321,
          436745,
          486139,
          552162,
          645179,
          741562,
          844383,
          837863,
          861951,
          1146903,
          1176426,
          1141825,
          1141825,
          1114068,
          1089016,
          1130319,
          1137589,
          1117632,
          1167387,
          1475376,
          1453888,
          1518408,
          1533182,
          1537188,
          1292534,
          1263871,
          1542962,
          1397835
         ],
         "yaxis": "y"
        },
        {
         "hovertemplate": "Organization Name=University Of California, San Diego<br>Fiscal Year=%{x}<br>Total Cost IC=%{y}<extra></extra>",
         "legendgroup": "University Of California, San Diego",
         "line": {
          "color": "#B6E880",
          "dash": "solid"
         },
         "marker": {
          "symbol": "circle"
         },
         "mode": "markers+lines",
         "name": "University Of California, San Diego",
         "showlegend": true,
         "type": "scattergl",
         "visible": "legendonly",
         "x": [
          1985,
          1986,
          1987,
          1988,
          1989,
          1990,
          1991,
          1992,
          1993,
          1994,
          1995,
          1996,
          1997,
          1998,
          1999,
          2000,
          2001,
          2002,
          2003,
          2004,
          2005,
          2006,
          2007,
          2008,
          2009,
          2010,
          2011,
          2012,
          2013,
          2014,
          2015,
          2016,
          2017,
          2018,
          2019,
          2020,
          2021
         ],
         "xaxis": "x",
         "y": [
          309790,
          300270,
          273819,
          316099,
          372377,
          398356,
          407428,
          407428,
          422994,
          278321,
          503593,
          515528,
          548692,
          548193,
          679169,
          631621,
          870510,
          868601,
          923396,
          938896,
          1124053,
          1162533,
          1175571,
          1190851,
          1178585,
          1505093,
          1347217,
          1360284,
          1165957,
          967309,
          1214726,
          1277652,
          1290288,
          1303248,
          1202909,
          1330140,
          1344072
         ],
         "yaxis": "y"
        },
        {
         "hovertemplate": "Organization Name=University Of California, San Francisco<br>Fiscal Year=%{x}<br>Total Cost IC=%{y}<extra></extra>",
         "legendgroup": "University Of California, San Francisco",
         "line": {
          "color": "#FF97FF",
          "dash": "solid"
         },
         "marker": {
          "symbol": "circle"
         },
         "mode": "markers+lines",
         "name": "University Of California, San Francisco",
         "showlegend": true,
         "type": "scattergl",
         "visible": "legendonly",
         "x": [
          1985,
          1986,
          1987,
          1988,
          1989,
          1990,
          1991,
          1992,
          1993,
          1994,
          1995,
          1996,
          1997,
          1998,
          1999,
          2000,
          2006,
          2007,
          2008,
          2009,
          2010,
          2011,
          2012,
          2013,
          2014,
          2015,
          2016,
          2017,
          2018,
          2019,
          2020,
          2021
         ],
         "xaxis": "x",
         "y": [
          266847,
          286502,
          347207,
          439539,
          513304,
          600990,
          613626,
          608049,
          702520,
          769611,
          650563,
          758386,
          822667,
          837509,
          857392,
          999383,
          1159052,
          1449104,
          1504432,
          1555347,
          1563278,
          1578888,
          1595685,
          1418386,
          1388926,
          1638386,
          1605904,
          1622078,
          1638666,
          1655657,
          1671965,
          1666649
         ],
         "yaxis": "y"
        },
        {
         "hovertemplate": "Organization Name=University Of California-Irvine<br>Fiscal Year=%{x}<br>Total Cost IC=%{y}<extra></extra>",
         "legendgroup": "University Of California-Irvine",
         "line": {
          "color": "#FECB52",
          "dash": "solid"
         },
         "marker": {
          "symbol": "circle"
         },
         "mode": "markers+lines",
         "name": "University Of California-Irvine",
         "showlegend": true,
         "type": "scattergl",
         "visible": "legendonly",
         "x": [
          1999,
          2000,
          2001,
          2002,
          2003,
          2004,
          2005,
          2006,
          2007,
          2008,
          2009,
          2010,
          2011,
          2012,
          2013,
          2014,
          2015,
          2016,
          2017,
          2018,
          2019,
          2020,
          2021
         ],
         "xaxis": "x",
         "y": [
          50576,
          106519,
          140925,
          150947,
          152219,
          199739,
          199739,
          199739,
          199739,
          139002,
          384294,
          300437,
          303613,
          306877,
          303523,
          350938,
          354295,
          495249,
          412892,
          465235,
          579274,
          532056,
          591392
         ],
         "yaxis": "y"
        },
        {
         "hovertemplate": "Organization Name=University Of Chicago<br>Fiscal Year=%{x}<br>Total Cost IC=%{y}<extra></extra>",
         "legendgroup": "University Of Chicago",
         "line": {
          "color": "#636efa",
          "dash": "solid"
         },
         "marker": {
          "symbol": "circle"
         },
         "mode": "markers+lines",
         "name": "University Of Chicago",
         "showlegend": true,
         "type": "scattergl",
         "visible": "legendonly",
         "x": [
          1985,
          1986,
          1987,
          1988,
          1989,
          1990,
          1991,
          1992,
          1993,
          1994,
          1995,
          1996,
          1997,
          1998,
          1999,
          2000,
          2001,
          2002,
          2003,
          2004,
          2005,
          2006,
          2007,
          2008,
          2009,
          2010,
          2011,
          2012,
          2013,
          2014,
          2015,
          2016,
          2017,
          2018,
          2019,
          2020,
          2021
         ],
         "xaxis": "x",
         "y": [
          1047484,
          838484,
          686233,
          787014,
          810671,
          890048,
          928554,
          928554,
          894980,
          1010691,
          992880,
          962772,
          1014198,
          1054873,
          1233714,
          1506737,
          1562724,
          1634885,
          1604126,
          1733728,
          1791547,
          1838678,
          1838678,
          1838678,
          1846169,
          1072157,
          1082136,
          1140842,
          943437,
          1002681,
          1214727,
          1175440,
          1237785,
          1251118,
          1158548,
          1170523,
          1182783
         ],
         "yaxis": "y"
        },
        {
         "hovertemplate": "Organization Name=University Of Cincinnati<br>Fiscal Year=%{x}<br>Total Cost IC=%{y}<extra></extra>",
         "legendgroup": "University Of Cincinnati",
         "line": {
          "color": "#EF553B",
          "dash": "solid"
         },
         "marker": {
          "symbol": "circle"
         },
         "mode": "markers+lines",
         "name": "University Of Cincinnati",
         "showlegend": true,
         "type": "scattergl",
         "visible": "legendonly",
         "x": [
          2002,
          2003,
          2004,
          2005,
          2006,
          2007,
          2008,
          2009,
          2010,
          2011,
          2013,
          2014,
          2015,
          2016,
          2017,
          2018,
          2019,
          2020,
          2021
         ],
         "xaxis": "x",
         "y": [
          76373,
          160574,
          164271,
          246407,
          265323,
          334111,
          292347,
          587778,
          253227,
          184052,
          277195,
          326751,
          377269,
          381206,
          310654,
          383424,
          533052,
          637047,
          396487
         ],
         "yaxis": "y"
        },
        {
         "hovertemplate": "Organization Name=University Of Colorado Denver<br>Fiscal Year=%{x}<br>Total Cost IC=%{y}<extra></extra>",
         "legendgroup": "University Of Colorado Denver",
         "line": {
          "color": "#00cc96",
          "dash": "solid"
         },
         "marker": {
          "symbol": "circle"
         },
         "mode": "markers+lines",
         "name": "University Of Colorado Denver",
         "showlegend": true,
         "type": "scattergl",
         "visible": "legendonly",
         "x": [
          2013,
          2014,
          2015,
          2016,
          2017,
          2018,
          2019,
          2020,
          2021
         ],
         "xaxis": "x",
         "y": [
          844128,
          802145,
          809818,
          817697,
          766416,
          834079,
          1000564,
          1010906,
          860206
         ],
         "yaxis": "y"
        },
        {
         "hovertemplate": "Organization Name=University Of Connecticut Sch Of Med/Dnt<br>Fiscal Year=%{x}<br>Total Cost IC=%{y}<extra></extra>",
         "legendgroup": "University Of Connecticut Sch Of Med/Dnt",
         "line": {
          "color": "#ab63fa",
          "dash": "solid"
         },
         "marker": {
          "symbol": "circle"
         },
         "mode": "markers+lines",
         "name": "University Of Connecticut Sch Of Med/Dnt",
         "showlegend": true,
         "type": "scattergl",
         "visible": "legendonly",
         "x": [
          1999,
          2000,
          2001,
          2002,
          2003,
          2004,
          2005,
          2006
         ],
         "xaxis": "x",
         "y": [
          51140,
          102395,
          133580,
          143602,
          153387,
          133435,
          133435,
          95812
         ],
         "yaxis": "y"
        },
        {
         "hovertemplate": "Organization Name=University Of Illinois At Chicago<br>Fiscal Year=%{x}<br>Total Cost IC=%{y}<extra></extra>",
         "legendgroup": "University Of Illinois At Chicago",
         "line": {
          "color": "#FFA15A",
          "dash": "solid"
         },
         "marker": {
          "symbol": "circle"
         },
         "mode": "markers+lines",
         "name": "University Of Illinois At Chicago",
         "showlegend": true,
         "type": "scattergl",
         "visible": "legendonly",
         "x": [
          2007,
          2008,
          2009,
          2010,
          2011,
          2012,
          2013,
          2014,
          2015,
          2016,
          2017,
          2018,
          2019,
          2020,
          2021
         ],
         "xaxis": "x",
         "y": [
          96588,
          187445,
          329574,
          236512,
          236088,
          297927,
          397236,
          501341,
          506136,
          474772,
          567221,
          521299,
          737258,
          798084,
          868562
         ],
         "yaxis": "y"
        },
        {
         "hovertemplate": "Organization Name=University Of Iowa<br>Fiscal Year=%{x}<br>Total Cost IC=%{y}<extra></extra>",
         "legendgroup": "University Of Iowa",
         "line": {
          "color": "#19d3f3",
          "dash": "solid"
         },
         "marker": {
          "symbol": "circle"
         },
         "mode": "markers+lines",
         "name": "University Of Iowa",
         "showlegend": true,
         "type": "scattergl",
         "visible": "legendonly",
         "x": [
          1985,
          1986,
          1987,
          1988,
          1989,
          1990,
          1991,
          1992,
          1993,
          1994,
          1995,
          1996,
          1997,
          1998,
          1999,
          2000,
          2001,
          2002,
          2003,
          2004,
          2005,
          2006,
          2007,
          2008,
          2009,
          2010,
          2011,
          2012,
          2013,
          2014,
          2015,
          2016,
          2017,
          2018,
          2019,
          2020,
          2021
         ],
         "xaxis": "x",
         "y": [
          232717,
          224899,
          300144,
          288695,
          341280,
          355572,
          361404,
          361404,
          395406,
          382675,
          397387,
          406383,
          146458,
          147819,
          131845,
          428830,
          506975,
          628728,
          701291,
          644699,
          813973,
          813973,
          813973,
          813973,
          797580,
          353370,
          836196,
          844128,
          844128,
          852279,
          848332,
          868803,
          877396,
          886209,
          895242,
          819560,
          967732
         ],
         "yaxis": "y"
        },
        {
         "hovertemplate": "Organization Name=University Of Kansas Medical Center<br>Fiscal Year=%{x}<br>Total Cost IC=%{y}<extra></extra>",
         "legendgroup": "University Of Kansas Medical Center",
         "line": {
          "color": "#FF6692",
          "dash": "solid"
         },
         "marker": {
          "symbol": "circle"
         },
         "mode": "markers+lines",
         "name": "University Of Kansas Medical Center",
         "showlegend": true,
         "type": "scattergl",
         "visible": "legendonly",
         "x": [
          2020,
          2021
         ],
         "xaxis": "x",
         "y": [
          106411,
          215052
         ],
         "yaxis": "y"
        },
        {
         "hovertemplate": "Organization Name=University Of Maryland Baltimore<br>Fiscal Year=%{x}<br>Total Cost IC=%{y}<extra></extra>",
         "legendgroup": "University Of Maryland Baltimore",
         "line": {
          "color": "#B6E880",
          "dash": "solid"
         },
         "marker": {
          "symbol": "circle"
         },
         "mode": "markers+lines",
         "name": "University Of Maryland Baltimore",
         "showlegend": true,
         "type": "scattergl",
         "visible": "legendonly",
         "x": [
          2010,
          2011,
          2012,
          2013,
          2014,
          2015,
          2016,
          2017,
          2018,
          2019,
          2020,
          2021
         ],
         "xaxis": "x",
         "y": [
          89915,
          181644,
          183510,
          183510,
          184954,
          404909,
          408849,
          412892,
          417039,
          526416,
          904496,
          806444
         ],
         "yaxis": "y"
        },
        {
         "hovertemplate": "Organization Name=University Of Miami School Of Medicine<br>Fiscal Year=%{x}<br>Total Cost IC=%{y}<extra></extra>",
         "legendgroup": "University Of Miami School Of Medicine",
         "line": {
          "color": "#FF97FF",
          "dash": "solid"
         },
         "marker": {
          "symbol": "circle"
         },
         "mode": "markers+lines",
         "name": "University Of Miami School Of Medicine",
         "showlegend": true,
         "type": "scattergl",
         "visible": "legendonly",
         "x": [
          2017,
          2018,
          2019,
          2020,
          2021
         ],
         "xaxis": "x",
         "y": [
          206446,
          260650,
          421290,
          638468,
          376239
         ],
         "yaxis": "y"
        },
        {
         "hovertemplate": "Organization Name=University Of Michigan At Ann Arbor<br>Fiscal Year=%{x}<br>Total Cost IC=%{y}<extra></extra>",
         "legendgroup": "University Of Michigan At Ann Arbor",
         "line": {
          "color": "#FECB52",
          "dash": "solid"
         },
         "marker": {
          "symbol": "circle"
         },
         "mode": "markers+lines",
         "name": "University Of Michigan At Ann Arbor",
         "showlegend": true,
         "type": "scattergl",
         "visible": "legendonly",
         "x": [
          1985,
          1986,
          1987,
          1988,
          1989,
          1990,
          1991,
          1992,
          1993,
          1994,
          1995,
          1996,
          1997,
          1998,
          1999,
          2000,
          2001,
          2002,
          2003,
          2004,
          2005,
          2006,
          2007,
          2008,
          2009,
          2010,
          2011,
          2012,
          2013,
          2014,
          2015,
          2016,
          2017,
          2018,
          2019,
          2020,
          2021
         ],
         "xaxis": "x",
         "y": [
          358131,
          423080,
          453243,
          23210,
          22553,
          26117,
          731206,
          792611,
          834471,
          876219,
          933918,
          933908,
          985334,
          1025107,
          1236493,
          1304165,
          1360152,
          1432313,
          1502764,
          1534023,
          1659587,
          1659587,
          1659587,
          1659587,
          1667298,
          1754438,
          1770768,
          1787565,
          1588946,
          1524525,
          1265340,
          1277652,
          1290288,
          1407508,
          1474516,
          1383346,
          1451598
         ],
         "yaxis": "y"
        },
        {
         "hovertemplate": "Organization Name=University Of Minnesota<br>Fiscal Year=%{x}<br>Total Cost IC=%{y}<extra></extra>",
         "legendgroup": "University Of Minnesota",
         "line": {
          "color": "#636efa",
          "dash": "solid"
         },
         "marker": {
          "symbol": "circle"
         },
         "mode": "markers+lines",
         "name": "University Of Minnesota",
         "showlegend": true,
         "type": "scattergl",
         "visible": "legendonly",
         "x": [
          1988,
          1989,
          1990,
          1991,
          1992,
          1993,
          1994,
          1995,
          1996,
          1997,
          1998,
          1999,
          2000,
          2001,
          2002,
          2003,
          2004,
          2005,
          2006,
          2007,
          2008,
          2009,
          2010,
          2011,
          2012,
          2013,
          2014,
          2015,
          2016,
          2017,
          2018,
          2019,
          2020,
          2021
         ],
         "xaxis": "x",
         "y": [
          35904,
          80224,
          114651,
          150816,
          183637,
          227531,
          260988,
          259129,
          263453,
          284345,
          311712,
          408916,
          457645,
          452370,
          470335,
          78891,
          80628,
          342350,
          357862,
          402595,
          402595,
          490889,
          487344,
          491880,
          446891,
          446891,
          434448,
          455522,
          648567,
          567727,
          625559,
          782369,
          798084,
          988849
         ],
         "yaxis": "y"
        },
        {
         "hovertemplate": "Organization Name=University Of Pennsylvania<br>Fiscal Year=%{x}<br>Total Cost IC=%{y}<extra></extra>",
         "legendgroup": "University Of Pennsylvania",
         "line": {
          "color": "#EF553B",
          "dash": "solid"
         },
         "marker": {
          "symbol": "circle"
         },
         "mode": "markers+lines",
         "name": "University Of Pennsylvania",
         "showlegend": true,
         "type": "scattergl",
         "visible": "legendonly",
         "x": [
          1985,
          1986,
          1987,
          1988,
          1989,
          1990,
          1991,
          1992,
          1993,
          1994,
          1995,
          1996,
          1997,
          1998,
          1999,
          2000,
          2001,
          2002,
          2003,
          2004,
          2005,
          2006,
          2007,
          2008,
          2009,
          2010,
          2011,
          2012,
          2013,
          2014,
          2015,
          2016,
          2017,
          2018,
          2019,
          2020,
          2021
         ],
         "xaxis": "x",
         "y": [
          962410,
          865769,
          992586,
          996610,
          1029437,
          1223279,
          1030910,
          1205694,
          1148135,
          963629,
          1260254,
          1232248,
          1332571,
          1429463,
          1752452,
          1819540,
          1897300,
          1667949,
          2387872,
          2431288,
          2382662,
          2334036,
          2330536,
          2318100,
          2377190,
          2436720,
          2508588,
          2471744,
          2101076,
          2122654,
          2287200,
          2310820,
          2186781,
          2554366,
          2580403,
          2607074,
          2795670
         ],
         "yaxis": "y"
        },
        {
         "hovertemplate": "Organization Name=University Of Pittsburgh At Pittsburgh<br>Fiscal Year=%{x}<br>Total Cost IC=%{y}<extra></extra>",
         "legendgroup": "University Of Pittsburgh At Pittsburgh",
         "line": {
          "color": "#00cc96",
          "dash": "solid"
         },
         "marker": {
          "symbol": "circle"
         },
         "mode": "markers+lines",
         "name": "University Of Pittsburgh At Pittsburgh",
         "showlegend": true,
         "type": "scattergl",
         "visible": "legendonly",
         "x": [
          1999,
          2000,
          2001,
          2002,
          2003,
          2004,
          2005,
          2006,
          2007,
          2008,
          2009,
          2010,
          2011,
          2012,
          2013,
          2014,
          2015,
          2016,
          2017,
          2018,
          2019,
          2020,
          2021
         ],
         "xaxis": "x",
         "y": [
          96541,
          144623,
          188555,
          290699,
          391369,
          399184,
          399184,
          390123,
          579525,
          579525,
          582169,
          633547,
          737346,
          744818,
          794473,
          802145,
          1012272,
          1022122,
          1083842,
          1094728,
          1105887,
          1170523,
          1227960
         ],
         "yaxis": "y"
        },
        {
         "hovertemplate": "Organization Name=University Of Rochester<br>Fiscal Year=%{x}<br>Total Cost IC=%{y}<extra></extra>",
         "legendgroup": "University Of Rochester",
         "line": {
          "color": "#ab63fa",
          "dash": "solid"
         },
         "marker": {
          "symbol": "circle"
         },
         "mode": "markers+lines",
         "name": "University Of Rochester",
         "showlegend": true,
         "type": "scattergl",
         "visible": "legendonly",
         "x": [
          1985,
          1986,
          1987,
          1988,
          1989,
          1990,
          1991,
          1992,
          1993,
          1994,
          1995,
          1996,
          1997,
          1998,
          1999,
          2000,
          2001,
          2002,
          2003,
          2004,
          2005,
          2006,
          2007,
          2008,
          2009,
          2010,
          2011,
          2012,
          2013,
          2014,
          2015,
          2016,
          2017,
          2018,
          2019,
          2020,
          2021
         ],
         "xaxis": "x",
         "y": [
          276226,
          255554,
          278654,
          291259,
          316632,
          335076,
          338964,
          338600,
          251517,
          210035,
          192531,
          216933,
          287237,
          292752,
          419628,
          420748,
          434071,
          456120,
          437745,
          520781,
          520781,
          438777,
          520781,
          512282,
          582169,
          584813,
          590256,
          546200,
          523768,
          601609,
          708590,
          715485,
          722561,
          656716,
          842580,
          990397,
          913969
         ],
         "yaxis": "y"
        },
        {
         "hovertemplate": "Organization Name=University Of Texas Hlth Sci Ctr Houston<br>Fiscal Year=%{x}<br>Total Cost IC=%{y}<extra></extra>",
         "legendgroup": "University Of Texas Hlth Sci Ctr Houston",
         "line": {
          "color": "#FFA15A",
          "dash": "solid"
         },
         "marker": {
          "symbol": "circle"
         },
         "mode": "markers+lines",
         "name": "University Of Texas Hlth Sci Ctr Houston",
         "showlegend": true,
         "type": "scattergl",
         "visible": "legendonly",
         "x": [
          2018,
          2019,
          2020,
          2021
         ],
         "xaxis": "x",
         "y": [
          173980,
          176105,
          178282,
          301239
         ],
         "yaxis": "y"
        },
        {
         "hovertemplate": "Organization Name=University Of Texas Hlth Science Center<br>Fiscal Year=%{x}<br>Total Cost IC=%{y}<extra></extra>",
         "legendgroup": "University Of Texas Hlth Science Center",
         "line": {
          "color": "#19d3f3",
          "dash": "solid"
         },
         "marker": {
          "symbol": "circle"
         },
         "mode": "markers+lines",
         "name": "University Of Texas Hlth Science Center",
         "showlegend": true,
         "type": "scattergl",
         "visible": "legendonly",
         "x": [
          2018,
          2019,
          2020,
          2021
         ],
         "xaxis": "x",
         "y": [
          87420,
          176965,
          223928,
          272057
         ],
         "yaxis": "y"
        },
        {
         "hovertemplate": "Organization Name=University Of Virginia<br>Fiscal Year=%{x}<br>Total Cost IC=%{y}<extra></extra>",
         "legendgroup": "University Of Virginia",
         "line": {
          "color": "#FF6692",
          "dash": "solid"
         },
         "marker": {
          "symbol": "circle"
         },
         "mode": "markers+lines",
         "name": "University Of Virginia",
         "showlegend": true,
         "type": "scattergl",
         "visible": "legendonly",
         "x": [
          1985,
          1986,
          1987,
          1988,
          1989,
          1990,
          1991,
          1992,
          1993,
          1994,
          1995,
          1996,
          1997,
          2000,
          2001,
          2002,
          2003,
          2004,
          2005,
          2006,
          2007,
          2008,
          2009,
          2010,
          2011,
          2012,
          2013,
          2014,
          2015,
          2016,
          2017,
          2018,
          2019,
          2020,
          2021
         ],
         "xaxis": "x",
         "y": [
          222681,
          198650,
          222692,
          268842,
          303879,
          315657,
          322065,
          322065,
          333691,
          359199,
          352733,
          330805,
          354910,
          138135,
          252623,
          304748,
          360454,
          363801,
          425779,
          425779,
          511178,
          562296,
          562333,
          584813,
          541068,
          546200,
          595855,
          545133,
          607363,
          613273,
          670950,
          697594,
          586952,
          744878,
          752680
         ],
         "yaxis": "y"
        },
        {
         "hovertemplate": "Organization Name=University Of Washington<br>Fiscal Year=%{x}<br>Total Cost IC=%{y}<extra></extra>",
         "legendgroup": "University Of Washington",
         "line": {
          "color": "#B6E880",
          "dash": "solid"
         },
         "marker": {
          "symbol": "circle"
         },
         "mode": "markers+lines",
         "name": "University Of Washington",
         "showlegend": true,
         "type": "scattergl",
         "visible": true,
         "x": [
          1985,
          1986,
          1987,
          1988,
          1989,
          1990,
          1991,
          1992,
          1993,
          1994,
          1995,
          1996,
          1997,
          1998,
          1999,
          2000,
          2001,
          2002,
          2003,
          2004,
          2005,
          2006,
          2007,
          2008,
          2009,
          2010,
          2011,
          2012,
          2013,
          2014,
          2015,
          2016,
          2017,
          2018,
          2019,
          2020,
          2021
         ],
         "xaxis": "x",
         "y": [
          304728,
          288903,
          314297,
          292402,
          331609,
          374965,
          389598,
          389598,
          370306,
          459040,
          411630,
          459044,
          516872,
          538255,
          739789,
          777358,
          820904,
          877029,
          883037,
          1051388,
          1051388,
          1015133,
          1051388,
          1050213,
          1320314,
          1326924,
          1340520,
          1309366,
          1256371,
          1403754,
          1417181,
          1430970,
          1445123,
          1503407,
          1527177,
          1542962,
          1666649
         ],
         "yaxis": "y"
        },
        {
         "hovertemplate": "Organization Name=Ut Southwestern Medical Center<br>Fiscal Year=%{x}<br>Total Cost IC=%{y}<extra></extra>",
         "legendgroup": "Ut Southwestern Medical Center",
         "line": {
          "color": "#FF97FF",
          "dash": "solid"
         },
         "marker": {
          "symbol": "circle"
         },
         "mode": "markers+lines",
         "name": "Ut Southwestern Medical Center",
         "showlegend": true,
         "type": "scattergl",
         "visible": "legendonly",
         "x": [
          1988,
          1989,
          1990,
          1991,
          1992,
          1994,
          1995,
          1996,
          1997,
          1998,
          1999,
          2000,
          2001,
          2002,
          2003,
          2004,
          2005,
          2006,
          2007,
          2008,
          2009,
          2010,
          2011,
          2012,
          2013,
          2014,
          2015,
          2016,
          2017,
          2018,
          2019,
          2020,
          2021
         ],
         "xaxis": "x",
         "y": [
          175444,
          180469,
          206689,
          218505,
          232824,
          270951,
          269885,
          275737,
          358657,
          382977,
          469839,
          589761,
          585931,
          678235,
          723245,
          686550,
          743216,
          732137,
          738639,
          738639,
          725649,
          833736,
          844169,
          892070,
          854900,
          710276,
          947984,
          959312,
          928719,
          940124,
          790426,
          1068318,
          1081135
         ],
         "yaxis": "y"
        },
        {
         "hovertemplate": "Organization Name=Vanderbilt University<br>Fiscal Year=%{x}<br>Total Cost IC=%{y}<extra></extra>",
         "legendgroup": "Vanderbilt University",
         "line": {
          "color": "#FECB52",
          "dash": "solid"
         },
         "marker": {
          "symbol": "circle"
         },
         "mode": "markers+lines",
         "name": "Vanderbilt University",
         "showlegend": true,
         "type": "scattergl",
         "visible": "legendonly",
         "x": [
          1985,
          1986,
          1987,
          1988,
          1989,
          1990,
          1991,
          1992,
          1993,
          1994,
          1995,
          1996,
          1997,
          1998,
          1999,
          2000,
          2001,
          2002,
          2003,
          2004,
          2005,
          2006,
          2007,
          2008,
          2009,
          2010,
          2011,
          2012,
          2013,
          2014,
          2015,
          2016,
          2017,
          2018,
          2019,
          2020,
          2021
         ],
         "xaxis": "x",
         "y": [
          215582,
          272028,
          377286,
          374287,
          359565,
          427520,
          432704,
          432704,
          422398,
          548742,
          545207,
          548737,
          576057,
          580683,
          681283,
          803796,
          834900,
          836969,
          868263,
          811247,
          900866,
          960216,
          1008226,
          1001953,
          1067310,
          1072157,
          1082136,
          1092400,
          1020603,
          1102950,
          1164113,
          1226546,
          1238676,
          1188535,
          1369193,
          1383346,
          1397835
         ],
         "yaxis": "y"
        },
        {
         "hovertemplate": "Organization Name=Washington University<br>Fiscal Year=%{x}<br>Total Cost IC=%{y}<extra></extra>",
         "legendgroup": "Washington University",
         "line": {
          "color": "#636efa",
          "dash": "solid"
         },
         "marker": {
          "symbol": "circle"
         },
         "mode": "markers+lines",
         "name": "Washington University",
         "showlegend": true,
         "type": "scattergl",
         "visible": "legendonly",
         "x": [
          1985,
          1986,
          1987,
          1988,
          1989,
          1990,
          1991,
          1992,
          1993,
          1994,
          1995,
          1996,
          1997,
          1998,
          1999,
          2000,
          2001,
          2002,
          2003,
          2004,
          2005,
          2006,
          2007,
          2008,
          2009,
          2010,
          2011,
          2012,
          2013,
          2014,
          2015,
          2016,
          2017,
          2018,
          2019,
          2020,
          2021
         ],
         "xaxis": "x",
         "y": [
          773014,
          773127,
          898043,
          879941,
          975831,
          1044776,
          1061213,
          1061213,
          1155675,
          1223392,
          1291668,
          1268479,
          1342403,
          1384377,
          1661756,
          2015458,
          2096328,
          2158242,
          2258047,
          2298054,
          2446788,
          2348916,
          2446788,
          2397852,
          2389478,
          2485453,
          2557776,
          2482729,
          2284110,
          2188716,
          2226998,
          2386174,
          2322519,
          2397976,
          2364928,
          2394252,
          2580618
         ],
         "yaxis": "y"
        },
        {
         "hovertemplate": "Organization Name=Yale University<br>Fiscal Year=%{x}<br>Total Cost IC=%{y}<extra></extra>",
         "legendgroup": "Yale University",
         "line": {
          "color": "#EF553B",
          "dash": "solid"
         },
         "marker": {
          "symbol": "circle"
         },
         "mode": "markers+lines",
         "name": "Yale University",
         "showlegend": true,
         "type": "scattergl",
         "visible": "legendonly",
         "x": [
          1985,
          1986,
          1987,
          1988,
          1989,
          1990,
          1991,
          1992,
          1993,
          1994,
          1995,
          1996,
          1997,
          1998,
          1999,
          2000,
          2001,
          2002,
          2003,
          2004,
          2005,
          2006,
          2007,
          2008,
          2009,
          2010,
          2011,
          2012,
          2013,
          2014,
          2015,
          2016,
          2017,
          2018,
          2019,
          2020,
          2021
         ],
         "xaxis": "x",
         "y": [
          783704,
          762396,
          861171,
          854474,
          936418,
          1008629,
          1028200,
          1028200,
          983346,
          1031389,
          1097236,
          1101466,
          1165747,
          1235465,
          1489757,
          1754454,
          1827548,
          1921759,
          2013736,
          2050962,
          2133929,
          2087539,
          2029265,
          2133929,
          2138456,
          2193048,
          2213460,
          2333765,
          2135147,
          2129829,
          2328226,
          2401986,
          2374130,
          2397976,
          2318282,
          2181430,
          2344412
         ],
         "yaxis": "y"
        }
       ],
       "layout": {
        "height": 800,
        "legend": {
         "title": {
          "text": "Organization Name"
         },
         "tracegroupgap": 0
        },
        "template": {
         "data": {
          "bar": [
           {
            "error_x": {
             "color": "#2a3f5f"
            },
            "error_y": {
             "color": "#2a3f5f"
            },
            "marker": {
             "line": {
              "color": "#E5ECF6",
              "width": 0.5
             },
             "pattern": {
              "fillmode": "overlay",
              "size": 10,
              "solidity": 0.2
             }
            },
            "type": "bar"
           }
          ],
          "barpolar": [
           {
            "marker": {
             "line": {
              "color": "#E5ECF6",
              "width": 0.5
             },
             "pattern": {
              "fillmode": "overlay",
              "size": 10,
              "solidity": 0.2
             }
            },
            "type": "barpolar"
           }
          ],
          "carpet": [
           {
            "aaxis": {
             "endlinecolor": "#2a3f5f",
             "gridcolor": "white",
             "linecolor": "white",
             "minorgridcolor": "white",
             "startlinecolor": "#2a3f5f"
            },
            "baxis": {
             "endlinecolor": "#2a3f5f",
             "gridcolor": "white",
             "linecolor": "white",
             "minorgridcolor": "white",
             "startlinecolor": "#2a3f5f"
            },
            "type": "carpet"
           }
          ],
          "choropleth": [
           {
            "colorbar": {
             "outlinewidth": 0,
             "ticks": ""
            },
            "type": "choropleth"
           }
          ],
          "contour": [
           {
            "colorbar": {
             "outlinewidth": 0,
             "ticks": ""
            },
            "colorscale": [
             [
              0,
              "#0d0887"
             ],
             [
              0.1111111111111111,
              "#46039f"
             ],
             [
              0.2222222222222222,
              "#7201a8"
             ],
             [
              0.3333333333333333,
              "#9c179e"
             ],
             [
              0.4444444444444444,
              "#bd3786"
             ],
             [
              0.5555555555555556,
              "#d8576b"
             ],
             [
              0.6666666666666666,
              "#ed7953"
             ],
             [
              0.7777777777777778,
              "#fb9f3a"
             ],
             [
              0.8888888888888888,
              "#fdca26"
             ],
             [
              1,
              "#f0f921"
             ]
            ],
            "type": "contour"
           }
          ],
          "contourcarpet": [
           {
            "colorbar": {
             "outlinewidth": 0,
             "ticks": ""
            },
            "type": "contourcarpet"
           }
          ],
          "heatmap": [
           {
            "colorbar": {
             "outlinewidth": 0,
             "ticks": ""
            },
            "colorscale": [
             [
              0,
              "#0d0887"
             ],
             [
              0.1111111111111111,
              "#46039f"
             ],
             [
              0.2222222222222222,
              "#7201a8"
             ],
             [
              0.3333333333333333,
              "#9c179e"
             ],
             [
              0.4444444444444444,
              "#bd3786"
             ],
             [
              0.5555555555555556,
              "#d8576b"
             ],
             [
              0.6666666666666666,
              "#ed7953"
             ],
             [
              0.7777777777777778,
              "#fb9f3a"
             ],
             [
              0.8888888888888888,
              "#fdca26"
             ],
             [
              1,
              "#f0f921"
             ]
            ],
            "type": "heatmap"
           }
          ],
          "heatmapgl": [
           {
            "colorbar": {
             "outlinewidth": 0,
             "ticks": ""
            },
            "colorscale": [
             [
              0,
              "#0d0887"
             ],
             [
              0.1111111111111111,
              "#46039f"
             ],
             [
              0.2222222222222222,
              "#7201a8"
             ],
             [
              0.3333333333333333,
              "#9c179e"
             ],
             [
              0.4444444444444444,
              "#bd3786"
             ],
             [
              0.5555555555555556,
              "#d8576b"
             ],
             [
              0.6666666666666666,
              "#ed7953"
             ],
             [
              0.7777777777777778,
              "#fb9f3a"
             ],
             [
              0.8888888888888888,
              "#fdca26"
             ],
             [
              1,
              "#f0f921"
             ]
            ],
            "type": "heatmapgl"
           }
          ],
          "histogram": [
           {
            "marker": {
             "pattern": {
              "fillmode": "overlay",
              "size": 10,
              "solidity": 0.2
             }
            },
            "type": "histogram"
           }
          ],
          "histogram2d": [
           {
            "colorbar": {
             "outlinewidth": 0,
             "ticks": ""
            },
            "colorscale": [
             [
              0,
              "#0d0887"
             ],
             [
              0.1111111111111111,
              "#46039f"
             ],
             [
              0.2222222222222222,
              "#7201a8"
             ],
             [
              0.3333333333333333,
              "#9c179e"
             ],
             [
              0.4444444444444444,
              "#bd3786"
             ],
             [
              0.5555555555555556,
              "#d8576b"
             ],
             [
              0.6666666666666666,
              "#ed7953"
             ],
             [
              0.7777777777777778,
              "#fb9f3a"
             ],
             [
              0.8888888888888888,
              "#fdca26"
             ],
             [
              1,
              "#f0f921"
             ]
            ],
            "type": "histogram2d"
           }
          ],
          "histogram2dcontour": [
           {
            "colorbar": {
             "outlinewidth": 0,
             "ticks": ""
            },
            "colorscale": [
             [
              0,
              "#0d0887"
             ],
             [
              0.1111111111111111,
              "#46039f"
             ],
             [
              0.2222222222222222,
              "#7201a8"
             ],
             [
              0.3333333333333333,
              "#9c179e"
             ],
             [
              0.4444444444444444,
              "#bd3786"
             ],
             [
              0.5555555555555556,
              "#d8576b"
             ],
             [
              0.6666666666666666,
              "#ed7953"
             ],
             [
              0.7777777777777778,
              "#fb9f3a"
             ],
             [
              0.8888888888888888,
              "#fdca26"
             ],
             [
              1,
              "#f0f921"
             ]
            ],
            "type": "histogram2dcontour"
           }
          ],
          "mesh3d": [
           {
            "colorbar": {
             "outlinewidth": 0,
             "ticks": ""
            },
            "type": "mesh3d"
           }
          ],
          "parcoords": [
           {
            "line": {
             "colorbar": {
              "outlinewidth": 0,
              "ticks": ""
             }
            },
            "type": "parcoords"
           }
          ],
          "pie": [
           {
            "automargin": true,
            "type": "pie"
           }
          ],
          "scatter": [
           {
            "marker": {
             "colorbar": {
              "outlinewidth": 0,
              "ticks": ""
             }
            },
            "type": "scatter"
           }
          ],
          "scatter3d": [
           {
            "line": {
             "colorbar": {
              "outlinewidth": 0,
              "ticks": ""
             }
            },
            "marker": {
             "colorbar": {
              "outlinewidth": 0,
              "ticks": ""
             }
            },
            "type": "scatter3d"
           }
          ],
          "scattercarpet": [
           {
            "marker": {
             "colorbar": {
              "outlinewidth": 0,
              "ticks": ""
             }
            },
            "type": "scattercarpet"
           }
          ],
          "scattergeo": [
           {
            "marker": {
             "colorbar": {
              "outlinewidth": 0,
              "ticks": ""
             }
            },
            "type": "scattergeo"
           }
          ],
          "scattergl": [
           {
            "marker": {
             "colorbar": {
              "outlinewidth": 0,
              "ticks": ""
             }
            },
            "type": "scattergl"
           }
          ],
          "scattermapbox": [
           {
            "marker": {
             "colorbar": {
              "outlinewidth": 0,
              "ticks": ""
             }
            },
            "type": "scattermapbox"
           }
          ],
          "scatterpolar": [
           {
            "marker": {
             "colorbar": {
              "outlinewidth": 0,
              "ticks": ""
             }
            },
            "type": "scatterpolar"
           }
          ],
          "scatterpolargl": [
           {
            "marker": {
             "colorbar": {
              "outlinewidth": 0,
              "ticks": ""
             }
            },
            "type": "scatterpolargl"
           }
          ],
          "scatterternary": [
           {
            "marker": {
             "colorbar": {
              "outlinewidth": 0,
              "ticks": ""
             }
            },
            "type": "scatterternary"
           }
          ],
          "surface": [
           {
            "colorbar": {
             "outlinewidth": 0,
             "ticks": ""
            },
            "colorscale": [
             [
              0,
              "#0d0887"
             ],
             [
              0.1111111111111111,
              "#46039f"
             ],
             [
              0.2222222222222222,
              "#7201a8"
             ],
             [
              0.3333333333333333,
              "#9c179e"
             ],
             [
              0.4444444444444444,
              "#bd3786"
             ],
             [
              0.5555555555555556,
              "#d8576b"
             ],
             [
              0.6666666666666666,
              "#ed7953"
             ],
             [
              0.7777777777777778,
              "#fb9f3a"
             ],
             [
              0.8888888888888888,
              "#fdca26"
             ],
             [
              1,
              "#f0f921"
             ]
            ],
            "type": "surface"
           }
          ],
          "table": [
           {
            "cells": {
             "fill": {
              "color": "#EBF0F8"
             },
             "line": {
              "color": "white"
             }
            },
            "header": {
             "fill": {
              "color": "#C8D4E3"
             },
             "line": {
              "color": "white"
             }
            },
            "type": "table"
           }
          ]
         },
         "layout": {
          "annotationdefaults": {
           "arrowcolor": "#2a3f5f",
           "arrowhead": 0,
           "arrowwidth": 1
          },
          "autotypenumbers": "strict",
          "coloraxis": {
           "colorbar": {
            "outlinewidth": 0,
            "ticks": ""
           }
          },
          "colorscale": {
           "diverging": [
            [
             0,
             "#8e0152"
            ],
            [
             0.1,
             "#c51b7d"
            ],
            [
             0.2,
             "#de77ae"
            ],
            [
             0.3,
             "#f1b6da"
            ],
            [
             0.4,
             "#fde0ef"
            ],
            [
             0.5,
             "#f7f7f7"
            ],
            [
             0.6,
             "#e6f5d0"
            ],
            [
             0.7,
             "#b8e186"
            ],
            [
             0.8,
             "#7fbc41"
            ],
            [
             0.9,
             "#4d9221"
            ],
            [
             1,
             "#276419"
            ]
           ],
           "sequential": [
            [
             0,
             "#0d0887"
            ],
            [
             0.1111111111111111,
             "#46039f"
            ],
            [
             0.2222222222222222,
             "#7201a8"
            ],
            [
             0.3333333333333333,
             "#9c179e"
            ],
            [
             0.4444444444444444,
             "#bd3786"
            ],
            [
             0.5555555555555556,
             "#d8576b"
            ],
            [
             0.6666666666666666,
             "#ed7953"
            ],
            [
             0.7777777777777778,
             "#fb9f3a"
            ],
            [
             0.8888888888888888,
             "#fdca26"
            ],
            [
             1,
             "#f0f921"
            ]
           ],
           "sequentialminus": [
            [
             0,
             "#0d0887"
            ],
            [
             0.1111111111111111,
             "#46039f"
            ],
            [
             0.2222222222222222,
             "#7201a8"
            ],
            [
             0.3333333333333333,
             "#9c179e"
            ],
            [
             0.4444444444444444,
             "#bd3786"
            ],
            [
             0.5555555555555556,
             "#d8576b"
            ],
            [
             0.6666666666666666,
             "#ed7953"
            ],
            [
             0.7777777777777778,
             "#fb9f3a"
            ],
            [
             0.8888888888888888,
             "#fdca26"
            ],
            [
             1,
             "#f0f921"
            ]
           ]
          },
          "colorway": [
           "#636efa",
           "#EF553B",
           "#00cc96",
           "#ab63fa",
           "#FFA15A",
           "#19d3f3",
           "#FF6692",
           "#B6E880",
           "#FF97FF",
           "#FECB52"
          ],
          "font": {
           "color": "#2a3f5f"
          },
          "geo": {
           "bgcolor": "white",
           "lakecolor": "white",
           "landcolor": "#E5ECF6",
           "showlakes": true,
           "showland": true,
           "subunitcolor": "white"
          },
          "hoverlabel": {
           "align": "left"
          },
          "hovermode": "closest",
          "mapbox": {
           "style": "light"
          },
          "paper_bgcolor": "white",
          "plot_bgcolor": "#E5ECF6",
          "polar": {
           "angularaxis": {
            "gridcolor": "white",
            "linecolor": "white",
            "ticks": ""
           },
           "bgcolor": "#E5ECF6",
           "radialaxis": {
            "gridcolor": "white",
            "linecolor": "white",
            "ticks": ""
           }
          },
          "scene": {
           "xaxis": {
            "backgroundcolor": "#E5ECF6",
            "gridcolor": "white",
            "gridwidth": 2,
            "linecolor": "white",
            "showbackground": true,
            "ticks": "",
            "zerolinecolor": "white"
           },
           "yaxis": {
            "backgroundcolor": "#E5ECF6",
            "gridcolor": "white",
            "gridwidth": 2,
            "linecolor": "white",
            "showbackground": true,
            "ticks": "",
            "zerolinecolor": "white"
           },
           "zaxis": {
            "backgroundcolor": "#E5ECF6",
            "gridcolor": "white",
            "gridwidth": 2,
            "linecolor": "white",
            "showbackground": true,
            "ticks": "",
            "zerolinecolor": "white"
           }
          },
          "shapedefaults": {
           "line": {
            "color": "#2a3f5f"
           }
          },
          "ternary": {
           "aaxis": {
            "gridcolor": "white",
            "linecolor": "white",
            "ticks": ""
           },
           "baxis": {
            "gridcolor": "white",
            "linecolor": "white",
            "ticks": ""
           },
           "bgcolor": "#E5ECF6",
           "caxis": {
            "gridcolor": "white",
            "linecolor": "white",
            "ticks": ""
           }
          },
          "title": {
           "x": 0.05
          },
          "xaxis": {
           "automargin": true,
           "gridcolor": "white",
           "linecolor": "white",
           "ticks": "",
           "title": {
            "standoff": 15
           },
           "zerolinecolor": "white",
           "zerolinewidth": 2
          },
          "yaxis": {
           "automargin": true,
           "gridcolor": "white",
           "linecolor": "white",
           "ticks": "",
           "title": {
            "standoff": 15
           },
           "zerolinecolor": "white",
           "zerolinewidth": 2
          }
         }
        },
        "title": {
         "text": "Longitudinal MSTP Funding"
        },
        "width": 1500,
        "xaxis": {
         "anchor": "y",
         "autorange": true,
         "domain": [
          0,
          1
         ],
         "range": [
          1982.8449131513648,
          2023.1550868486352
         ],
         "title": {
          "text": "Fiscal Year"
         },
         "type": "linear"
        },
        "yaxis": {
         "anchor": "x",
         "autorange": true,
         "domain": [
          0,
          1
         ],
         "range": [
          55241.53042688465,
          1762328.4695731155
         ],
         "title": {
          "text": "Total Cost IC"
         },
         "type": "linear"
        }
       }
      },
      "image/png": "[encoded data removed]",
      "text/html": [
       "<div>                            <div id=\"4731580f-5002-4c6c-8e9b-f01e84d5b711\" class=\"plotly-graph-div\" style=\"height:800px; width:1500px;\"></div>            <script type=\"text/javascript\">                require([\"plotly\"], function(Plotly) {                    window.PLOTLYENV=window.PLOTLYENV || {};                                    if (document.getElementById(\"4731580f-5002-4c6c-8e9b-f01e84d5b711\")) {                    Plotly.newPlot(                        \"4731580f-5002-4c6c-8e9b-f01e84d5b711\",                        [{\"hovertemplate\":\"Organization Name=Albert Einstein College Of Medicine<br>Fiscal Year=%{x}<br>Total Cost IC=%{y}<extra></extra>\",\"legendgroup\":\"Albert Einstein College Of Medicine\",\"line\":{\"color\":\"#636efa\",\"dash\":\"solid\"},\"marker\":{\"symbol\":\"circle\"},\"mode\":\"markers+lines\",\"name\":\"Albert Einstein College Of Medicine\",\"showlegend\":true,\"x\":[1985,1986,1987,1988,1989,1990,1991,1992,1993,1994,1995,1996,1997,1998,1999,2000,2001,2002,2003,2004,2005,2006,2007,2008,2009,2010,2011,2012,2013,2014,2015,2016,2017,2018,2019,2020,2021],\"xaxis\":\"x\",\"y\":[810983,732497,837278,799591,786828,808201,817597,816038,768111,800809,805459,805958,852562,938261,1140385,1183322,1233088,1297231,1555790,1583576,1534090,1534090,1534090,1545401,1552451,1559501,1524828,1539287,1390328,1403754,1619635,1720718,1651513,1668157,1685161,1702579,1720412],\"yaxis\":\"y\",\"type\":\"scattergl\"},{\"hovertemplate\":\"Organization Name=Baylor College Of Medicine<br>Fiscal Year=%{x}<br>Total Cost IC=%{y}<extra></extra>\",\"legendgroup\":\"Baylor College Of Medicine\",\"line\":{\"color\":\"#EF553B\",\"dash\":\"solid\"},\"marker\":{\"symbol\":\"circle\"},\"mode\":\"markers+lines\",\"name\":\"Baylor College Of Medicine\",\"showlegend\":true,\"x\":[1985,1986,1987,1988,1989,1990,1991,1992,1993,1994,1995,1996,1997,1998,1999,2000,2001,2002,2003,2004,2005,2006,2007,2008,2009,2010,2011,2012,2013,2014,2015,2016,2017,2018,2019,2020,2021],\"xaxis\":\"x\",\"y\":[150921,166153,255715,230033,264198,268221,285858,285120,268822,304122,319284,337620,366546,331508,450859,536556,566105,604190,641372,631826,719132,719132,759083,799035,840111,797368,806440,815771,815771,866534,951521,916062,926170,936538,937717,1302319,1392409],\"yaxis\":\"y\",\"type\":\"scattergl\"},{\"hovertemplate\":\"Organization Name=Boston University Medical Campus<br>Fiscal Year=%{x}<br>Total Cost IC=%{y}<extra></extra>\",\"legendgroup\":\"Boston University Medical Campus\",\"line\":{\"color\":\"#00cc96\",\"dash\":\"solid\"},\"marker\":{\"symbol\":\"circle\"},\"mode\":\"markers+lines\",\"name\":\"Boston University Medical Campus\",\"showlegend\":true,\"x\":[1985,1986],\"xaxis\":\"x\",\"y\":[18652,19452],\"yaxis\":\"y\",\"type\":\"scattergl\"},{\"hovertemplate\":\"Organization Name=Case Western Reserve University<br>Fiscal Year=%{x}<br>Total Cost IC=%{y}<extra></extra>\",\"legendgroup\":\"Case Western Reserve University\",\"line\":{\"color\":\"#ab63fa\",\"dash\":\"solid\"},\"marker\":{\"symbol\":\"circle\"},\"mode\":\"markers+lines\",\"name\":\"Case Western Reserve University\",\"showlegend\":true,\"x\":[1985,1986,1987,1988,1989,1990,1991,1992,1993,1994,1995,1996,1997,1998,1999,2000,2001,2002,2003,2004,2005,2006,2007,2008,2009,2010,2011,2012,2013,2014,2015,2016,2017,2018,2019,2020,2021],\"xaxis\":\"x\",\"y\":[345010,403042,517864,559444,613477,668573,681212,681212,668636,785818,783860,785810,830807,837625,1035711,1077306,1125517,1187656,1248322,1334573,1288553,1242534,1242534,1242534,1406908,1413298,1328076,1340673,1291019,1303486,1518409,1533182,1599958,1554652,1579838,1596168,1559124],\"yaxis\":\"y\",\"type\":\"scattergl\"},{\"hovertemplate\":\"Organization Name=Colorado State University<br>Fiscal Year=%{x}<br>Total Cost IC=%{y}<extra></extra>\",\"legendgroup\":\"Colorado State University\",\"line\":{\"color\":\"#FFA15A\",\"dash\":\"solid\"},\"marker\":{\"symbol\":\"circle\"},\"mode\":\"markers+lines\",\"name\":\"Colorado State University\",\"showlegend\":true,\"x\":[2020,2021],\"xaxis\":\"x\",\"y\":[212822,215052],\"yaxis\":\"y\",\"type\":\"scattergl\"},{\"hovertemplate\":\"Organization Name=Columbia<br>Fiscal Year=%{x}<br>Total Cost IC=%{y}<extra></extra>\",\"legendgroup\":\"Columbia\",\"line\":{\"color\":\"#19d3f3\",\"dash\":\"solid\"},\"marker\":{\"symbol\":\"circle\"},\"mode\":\"markers+lines\",\"name\":\"Columbia\",\"showlegend\":true,\"x\":[1985,1986,1987,1988,1989,1990,1991,1992,1993,1994,1995,1996,1997,1998,1999,2000,2001,2002,2003,2004,2005,2006,2007,2008,2009,2010,2011,2012,2013,2014,2015,2016,2017,2018,2019,2020,2021],\"xaxis\":\"x\",\"y\":[451601,442560,571294,643924,701644,826650,951214,1008309,955828,1059510,1044269,998887,1055133,1064140,722881,749716,779524,889030,928169,945535,863447,1040089,1255638,1255638,1164338,1169626,1165649,1191709,1092400,1203218,1417182,1389508,1393512,1355378,1316532,1330140,1180110],\"yaxis\":\"y\",\"type\":\"scattergl\"},{\"hovertemplate\":\"Organization Name=Duke University<br>Fiscal Year=%{x}<br>Total Cost IC=%{y}<extra></extra>\",\"legendgroup\":\"Duke University\",\"line\":{\"color\":\"#FF6692\",\"dash\":\"solid\"},\"marker\":{\"symbol\":\"circle\"},\"mode\":\"markers+lines\",\"name\":\"Duke University\",\"showlegend\":true,\"x\":[1985,1986,1987,1988,1989,1990,1991,1992,1993,1994,1995,1996,1997,1998,1999,2000,2001,2002,2003,2004,2005,2006,2007,2008,2009,2010,2011,2012,2013,2014,2015,2016,2017,2018,2019,2020,2021],\"xaxis\":\"x\",\"y\":[622743,605970,648598,600536,651795,655309,643890,665353,690492,747681,749040,749387,932982,943409,1177597,1225901,1224414,1440033,1547332,1578591,1534742,1438722,1593694,1545401,1552451,1656968,1649626,1489638,1291019,1353618,1467795,1327249,1238676,1251118,1263871,1276934,1283796],\"yaxis\":\"y\",\"type\":\"scattergl\"},{\"hovertemplate\":\"Organization Name=Emory University<br>Fiscal Year=%{x}<br>Total Cost IC=%{y}<extra></extra>\",\"legendgroup\":\"Emory University\",\"line\":{\"color\":\"#B6E880\",\"dash\":\"solid\"},\"marker\":{\"symbol\":\"circle\"},\"mode\":\"markers+lines\",\"name\":\"Emory University\",\"showlegend\":true,\"x\":[1987,1988,1989,1990,1991,1992,1993,1994,1995,1996,1997,1998,1999,2000,2001,2007,2008,2009,2010,2011,2012,2013,2014,2015,2016,2017,2018,2019,2020,2021],\"xaxis\":\"x\",\"y\":[41992,84417,137605,194496,246900,296280,304968,347027,347027,347027,438043,442397,556795,580946,608940,917582,917582,873253,877219,884544,893782,943437,952546,961659,1045533,1083842,1146858,1158548,1170523,1219907],\"yaxis\":\"y\",\"type\":\"scattergl\"},{\"hovertemplate\":\"Organization Name=Harvard Medical School<br>Fiscal Year=%{x}<br>Total Cost IC=%{y}<extra></extra>\",\"legendgroup\":\"Harvard Medical School\",\"line\":{\"color\":\"#FF97FF\",\"dash\":\"solid\"},\"marker\":{\"symbol\":\"circle\"},\"mode\":\"markers+lines\",\"name\":\"Harvard Medical School\",\"showlegend\":true,\"x\":[1988,1989,1990,1991,1992,2017,2018,2019,2020,2021],\"xaxis\":\"x\",\"y\":[1013707,1064564,1267790,1322592,1351344,2528965,2554366,2633064,2607075,2733697],\"yaxis\":\"y\",\"type\":\"scattergl\"},{\"hovertemplate\":\"Organization Name=Icahn School of Medicine at Mount Sinai<br>Fiscal Year=%{x}<br>Total Cost IC=%{y}<extra></extra>\",\"legendgroup\":\"Icahn School of Medicine at Mount Sinai\",\"line\":{\"color\":\"#FECB52\",\"dash\":\"solid\"},\"marker\":{\"symbol\":\"circle\"},\"mode\":\"markers+lines\",\"name\":\"Icahn School of Medicine at Mount Sinai\",\"showlegend\":true,\"x\":[1985,1986,1987,1988,1989,1990,1991,1992,1993,1994,1995,1996,1997,1998,1999,2000,2001,2007,2008,2009,2010,2011,2012,2013,2014,2015,2016,2017,2018,2019,2020,2021],\"xaxis\":\"x\",\"y\":[316529,321346,277131,306482,338040,354531,360180,414817,394114,481139,480845,511478,517811,526155,680564,691840,665183,1062067,1062067,1115410,1120477,1174413,1191711,1092401,1102950,1164113,1025286,1135453,1303248,1263871,1276934,1375968],\"yaxis\":\"y\",\"type\":\"scattergl\"},{\"hovertemplate\":\"Organization Name=Indiana Univ-Purdue Univ At Indianapolis<br>Fiscal Year=%{x}<br>Total Cost IC=%{y}<extra></extra>\",\"legendgroup\":\"Indiana Univ-Purdue Univ At Indianapolis\",\"line\":{\"color\":\"#636efa\",\"dash\":\"solid\"},\"marker\":{\"symbol\":\"circle\"},\"mode\":\"markers+lines\",\"name\":\"Indiana Univ-Purdue Univ At Indianapolis\",\"showlegend\":true,\"x\":[2008,2009,2010,2011,2012,2013,2014,2015,2016,2017,2018,2019,2020,2021],\"xaxis\":\"x\",\"y\":[88162,177204,222607,269850,264806,386158,389993,393829,456927,379415,414683,523673,740762,860638],\"yaxis\":\"y\",\"type\":\"scattergl\"},{\"hovertemplate\":\"Organization Name=Johns Hopkins University<br>Fiscal Year=%{x}<br>Total Cost IC=%{y}<extra></extra>\",\"legendgroup\":\"Johns Hopkins University\",\"line\":{\"color\":\"#EF553B\",\"dash\":\"solid\"},\"marker\":{\"symbol\":\"circle\"},\"mode\":\"markers+lines\",\"name\":\"Johns Hopkins University\",\"showlegend\":true,\"x\":[1985,1986,1987,1988,1989,1990,1991,1992,1993,1994,1995,1996,1997,1998,1999,2000,2001,2002,2003,2004,2005,2006,2007,2008,2009,2010,2011,2012,2013,2014,2015,2016,2017,2018,2019,2020,2021],\"xaxis\":\"x\",\"y\":[880665,881455,1005115,983926,1080749,1190143,1211424,1211424,1224513,1289858,1288557,1288723,1364254,1377045,1621049,1832440,1910200,2010424,2108272,2120513,2260799,2194526,2023993,2260799,2329999,2534188,2606964,2528978,1905024,2132661,2277614,2197561,1961239,2033067,1937838,1755785,1774175],\"yaxis\":\"y\",\"type\":\"scattergl\"},{\"hovertemplate\":\"Organization Name=Mayo Clinic Rochester<br>Fiscal Year=%{x}<br>Total Cost IC=%{y}<extra></extra>\",\"legendgroup\":\"Mayo Clinic Rochester\",\"line\":{\"color\":\"#00cc96\",\"dash\":\"solid\"},\"marker\":{\"symbol\":\"circle\"},\"mode\":\"markers+lines\",\"name\":\"Mayo Clinic Rochester\",\"showlegend\":true,\"x\":[2003,2004,2005,2006,2007,2008,2009,2010,2011,2012,2013,2014,2015,2016,2017,2018,2019,2020,2021],\"xaxis\":\"x\",\"y\":[92043,140669,183879,183879,126167,228203,229524,230846,194640,143446,271827,274704,277582,280536,228053,364909,526613,638467,645155],\"yaxis\":\"y\",\"type\":\"scattergl\"},{\"hovertemplate\":\"Organization Name=Medical College Of Wisconsin<br>Fiscal Year=%{x}<br>Total Cost IC=%{y}<extra></extra>\",\"legendgroup\":\"Medical College Of Wisconsin\",\"line\":{\"color\":\"#ab63fa\",\"dash\":\"solid\"},\"marker\":{\"symbol\":\"circle\"},\"mode\":\"markers+lines\",\"name\":\"Medical College Of Wisconsin\",\"showlegend\":true,\"x\":[2010,2011,2012,2013,2014,2015,2016,2017,2018,2019,2020,2021],\"xaxis\":\"x\",\"y\":[97469,196752,198618,198618,188157,253068,357742,309669,312780,452085,425645,591392],\"yaxis\":\"y\",\"type\":\"scattergl\"},{\"hovertemplate\":\"Organization Name=New York University<br>Fiscal Year=%{x}<br>Total Cost IC=%{y}<extra></extra>\",\"legendgroup\":\"New York University\",\"line\":{\"color\":\"#FFA15A\",\"dash\":\"solid\"},\"marker\":{\"symbol\":\"circle\"},\"mode\":\"markers+lines\",\"name\":\"New York University\",\"showlegend\":true,\"x\":[1985,1986,1987,1988,1989,1990,1991,1992,1993,1994,1995,1996,1997,1998,1999,2000,2001,2002,2003,2004,2005,2006,2007,2008,2009,2010,2011,2012,2013,2014,2015,2016,2017,2018,2019,2020,2021],\"xaxis\":\"x\",\"y\":[798322,805074,910717,889000,963322,1058095,1065260,1066364,970415,1061464,897354,813875,771464,805703,960597,999508,1015769,1083927,1254698,1226209,1279879,1208547,1299579,662006,279084,1413298,1426452,1439982,1241364,1051692,1265340,1277652,1290288,1303248,1176652,1170523,1236546],\"yaxis\":\"y\",\"type\":\"scattergl\"},{\"hovertemplate\":\"Organization Name=Northwestern University At Chicago<br>Fiscal Year=%{x}<br>Total Cost IC=%{y}<extra></extra>\",\"legendgroup\":\"Northwestern University At Chicago\",\"line\":{\"color\":\"#19d3f3\",\"dash\":\"solid\"},\"marker\":{\"symbol\":\"circle\"},\"mode\":\"markers+lines\",\"name\":\"Northwestern University At Chicago\",\"showlegend\":true,\"x\":[1987,1988,1989,1990,1991,1992,1993,1994,1995,1996,1997,1998,1999,2000,2001,2002,2003,2004,2005,2006,2007,2008,2009,2010,2011,2012,2013,2014,2015,2016,2017,2018,2019,2020,2021],\"xaxis\":\"x\",\"y\":[60284,120569,186896,240258,317680,381216,338382,434243,465250,403216,459728,463538,582289,609693,619150,892647,927872,943502,943502,929318,965875,965875,970282,1023422,1023467,1042746,1092400,1153084,1265340,1224174,1393511,1407508,1531802,1436551,1648055],\"yaxis\":\"y\",\"type\":\"scattergl\"},{\"hovertemplate\":\"Organization Name=Ohio State University<br>Fiscal Year=%{x}<br>Total Cost IC=%{y}<extra></extra>\",\"legendgroup\":\"Ohio State University\",\"line\":{\"color\":\"#FF6692\",\"dash\":\"solid\"},\"marker\":{\"symbol\":\"circle\"},\"mode\":\"markers+lines\",\"name\":\"Ohio State University\",\"showlegend\":true,\"x\":[2011,2012,2013,2014,2015,2016,2017,2018,2019,2020,2021],\"xaxis\":\"x\",\"y\":[98376,198618,297927,300804,195461,442832,546792,502267,659858,507578,734296],\"yaxis\":\"y\",\"type\":\"scattergl\"},{\"hovertemplate\":\"Organization Name=Oregon Health & Science University<br>Fiscal Year=%{x}<br>Total Cost IC=%{y}<extra></extra>\",\"legendgroup\":\"Oregon Health & Science University\",\"line\":{\"color\":\"#B6E880\",\"dash\":\"solid\"},\"marker\":{\"symbol\":\"circle\"},\"mode\":\"markers+lines\",\"name\":\"Oregon Health & Science University\",\"showlegend\":true,\"x\":[2004,2005,2006,2007,2008,2016,2017,2018,2019,2020,2021],\"xaxis\":\"x\",\"y\":[144335,192447,188411,235514,235514,204424,206446,208520,263306,265820,860206],\"yaxis\":\"y\",\"type\":\"scattergl\"},{\"hovertemplate\":\"Organization Name=Pennsylvania State Univ Hershey Med Ctr<br>Fiscal Year=%{x}<br>Total Cost IC=%{y}<extra></extra>\",\"legendgroup\":\"Pennsylvania State Univ Hershey Med Ctr\",\"line\":{\"color\":\"#FF97FF\",\"dash\":\"solid\"},\"marker\":{\"symbol\":\"circle\"},\"mode\":\"markers+lines\",\"name\":\"Pennsylvania State Univ Hershey Med Ctr\",\"showlegend\":true,\"x\":[1998,1999,2000,2001,2002,2003],\"xaxis\":\"x\",\"y\":[61326,135784,156769,164545,174567,70771],\"yaxis\":\"y\",\"type\":\"scattergl\"},{\"hovertemplate\":\"Organization Name=Stanford University<br>Fiscal Year=%{x}<br>Total Cost IC=%{y}<extra></extra>\",\"legendgroup\":\"Stanford University\",\"line\":{\"color\":\"#FECB52\",\"dash\":\"solid\"},\"marker\":{\"symbol\":\"circle\"},\"mode\":\"markers+lines\",\"name\":\"Stanford University\",\"showlegend\":true,\"x\":[1985,1986,1987,1988,1989,1990,1991,1992,1993,1994,1995,1996,1997,1998,1999,2000,2001,2002,2003,2004,2005,2006,2007,2008,2009,2010,2011,2012,2013,2014,2015,2016,2017,2018,2019,2020,2021],\"xaxis\":\"x\",\"y\":[755590,791874,862267,859234,998424,1077064,1090996,1081644,1092428,1176423,1185002,1180457,1185549,1196163,1345274,1437773,1670012,1752196,1816196,1996435,1943897,1891359,1891359,1885949,1067310,1072157,996411,1191710,1191709,1303486,1417181,1423911,1548346,1563898,1579838,1596168,1596051],\"yaxis\":\"y\",\"type\":\"scattergl\"},{\"hovertemplate\":\"Organization Name=State University New York Stony Brook<br>Fiscal Year=%{x}<br>Total Cost IC=%{y}<extra></extra>\",\"legendgroup\":\"State University New York Stony Brook\",\"line\":{\"color\":\"#636efa\",\"dash\":\"solid\"},\"marker\":{\"symbol\":\"circle\"},\"mode\":\"markers+lines\",\"name\":\"State University New York Stony Brook\",\"showlegend\":true,\"x\":[1992,1993,1994,1995,1996,1997,1998,1999,2000,2001,2007,2008,2009,2010,2011,2012,2013,2014,2015,2016,2017,2018,2019,2020,2021],\"xaxis\":\"x\",\"y\":[47524,84457,112346,142316,189436,238641,285569,404001,425469,420089,118187,118187,158464,299560,302736,306002,262287,338848,455522,459955,464504,469169,845800,851290,860206],\"yaxis\":\"y\",\"type\":\"scattergl\"},{\"hovertemplate\":\"Organization Name=Tufts University Boston<br>Fiscal Year=%{x}<br>Total Cost IC=%{y}<extra></extra>\",\"legendgroup\":\"Tufts University Boston\",\"line\":{\"color\":\"#EF553B\",\"dash\":\"solid\"},\"marker\":{\"symbol\":\"circle\"},\"mode\":\"markers+lines\",\"name\":\"Tufts University Boston\",\"showlegend\":true,\"x\":[1994,1995,1996,1997,1998,1999,2000,2001,2002,2003,2004,2005,2006,2007,2008,2009,2010,2011,2013,2014,2015,2016,2017,2018,2019,2020,2021],\"xaxis\":\"x\",\"y\":[66959,133919,183634,246197,300090,413523,428283,415764,467439,469738,190143,190143,151696,338056,434644,533655,438610,324052,297927,400594,455199,408849,341322,469169,579274,532056,537629],\"yaxis\":\"y\",\"type\":\"scattergl\"},{\"hovertemplate\":\"Organization Name=Univ Of Massachusetts Med Sch Worcester<br>Fiscal Year=%{x}<br>Total Cost IC=%{y}<extra></extra>\",\"legendgroup\":\"Univ Of Massachusetts Med Sch Worcester\",\"line\":{\"color\":\"#00cc96\",\"dash\":\"solid\"},\"marker\":{\"symbol\":\"circle\"},\"mode\":\"markers+lines\",\"name\":\"Univ Of Massachusetts Med Sch Worcester\",\"showlegend\":true,\"x\":[2013,2014,2015,2016,2017,2018,2019,2020,2021],\"xaxis\":\"x\",\"y\":[143274,145192,220668,298161,296254,521299,718335,744878,860206],\"yaxis\":\"y\",\"type\":\"scattergl\"},{\"hovertemplate\":\"Organization Name=Univ Of North Carolina Chapel Hill<br>Fiscal Year=%{x}<br>Total Cost IC=%{y}<extra></extra>\",\"legendgroup\":\"Univ Of North Carolina Chapel Hill\",\"line\":{\"color\":\"#ab63fa\",\"dash\":\"solid\"},\"marker\":{\"symbol\":\"circle\"},\"mode\":\"markers+lines\",\"name\":\"Univ Of North Carolina Chapel Hill\",\"showlegend\":true,\"x\":[1999,2000,2001,2002,2003,2004,2005,2006,2007,2008,2009,2010,2011,2012,2013,2014,2015,2016,2017,2018,2019,2020,2021],\"xaxis\":\"x\",\"y\":[90867,122891,178488,242780,289046,439958,439958,439958,439958,458846,444321,446524,451060,501299,573649,601608,809818,868803,877397,849991,1211209,1223185,1021495],\"yaxis\":\"y\",\"type\":\"scattergl\"},{\"hovertemplate\":\"Organization Name=University Of Alabama At Birmingham<br>Fiscal Year=%{x}<br>Total Cost IC=%{y}<extra></extra>\",\"legendgroup\":\"University Of Alabama At Birmingham\",\"line\":{\"color\":\"#FFA15A\",\"dash\":\"solid\"},\"marker\":{\"symbol\":\"circle\"},\"mode\":\"markers+lines\",\"name\":\"University Of Alabama At Birmingham\",\"showlegend\":true,\"x\":[1992,1993,1994,1995,1996,1997,1998,1999,2000,2001,2002,2003,2004,2005,2006,2007,2008,2009,2010,2011,2012,2013,2014,2015,2016,2017,2018,2019,2020,2021],\"xaxis\":\"x\",\"y\":[44702,91316,131970,165114,445967,512269,541835,566609,667027,698160,673877,697751,661505,509926,509926,509925,552419,462939,576928,541619,505560,589814,596311,728159,784249,890755,850358,882623,1013633,973789],\"yaxis\":\"y\",\"type\":\"scattergl\"},{\"hovertemplate\":\"Organization Name=University Of California At Davis<br>Fiscal Year=%{x}<br>Total Cost IC=%{y}<extra></extra>\",\"legendgroup\":\"University Of California At Davis\",\"line\":{\"color\":\"#19d3f3\",\"dash\":\"solid\"},\"marker\":{\"symbol\":\"circle\"},\"mode\":\"markers+lines\",\"name\":\"University Of California At Davis\",\"showlegend\":true,\"x\":[2020,2021],\"xaxis\":\"x\",\"y\":[249984,240174],\"yaxis\":\"y\",\"type\":\"scattergl\"},{\"hovertemplate\":\"Organization Name=University Of California Los Angeles<br>Fiscal Year=%{x}<br>Total Cost IC=%{y}<extra></extra>\",\"legendgroup\":\"University Of California Los Angeles\",\"line\":{\"color\":\"#FF6692\",\"dash\":\"solid\"},\"marker\":{\"symbol\":\"circle\"},\"mode\":\"markers+lines\",\"name\":\"University Of California Los Angeles\",\"showlegend\":true,\"x\":[1985,1986,1987,1988,1989,1990,1991,1992,1993,1994,1995,1996,1997,1998,1999,2000,2001,2002,2003,2004,2005,2006,2007,2008,2009,2010,2011,2012,2013,2014,2015,2016,2017,2018,2019,2020,2021],\"xaxis\":\"x\",\"y\":[115824,144416,155771,195410,248730,315574,360880,376909,431883,457321,436745,486139,552162,645179,741562,844383,837863,861951,1146903,1176426,1141825,1141825,1114068,1089016,1130319,1137589,1117632,1167387,1475376,1453888,1518408,1533182,1537188,1292534,1263871,1542962,1397835],\"yaxis\":\"y\",\"type\":\"scattergl\"},{\"hovertemplate\":\"Organization Name=University Of California, San Diego<br>Fiscal Year=%{x}<br>Total Cost IC=%{y}<extra></extra>\",\"legendgroup\":\"University Of California, San Diego\",\"line\":{\"color\":\"#B6E880\",\"dash\":\"solid\"},\"marker\":{\"symbol\":\"circle\"},\"mode\":\"markers+lines\",\"name\":\"University Of California, San Diego\",\"showlegend\":true,\"x\":[1985,1986,1987,1988,1989,1990,1991,1992,1993,1994,1995,1996,1997,1998,1999,2000,2001,2002,2003,2004,2005,2006,2007,2008,2009,2010,2011,2012,2013,2014,2015,2016,2017,2018,2019,2020,2021],\"xaxis\":\"x\",\"y\":[309790,300270,273819,316099,372377,398356,407428,407428,422994,278321,503593,515528,548692,548193,679169,631621,870510,868601,923396,938896,1124053,1162533,1175571,1190851,1178585,1505093,1347217,1360284,1165957,967309,1214726,1277652,1290288,1303248,1202909,1330140,1344072],\"yaxis\":\"y\",\"type\":\"scattergl\"},{\"hovertemplate\":\"Organization Name=University Of California, San Francisco<br>Fiscal Year=%{x}<br>Total Cost IC=%{y}<extra></extra>\",\"legendgroup\":\"University Of California, San Francisco\",\"line\":{\"color\":\"#FF97FF\",\"dash\":\"solid\"},\"marker\":{\"symbol\":\"circle\"},\"mode\":\"markers+lines\",\"name\":\"University Of California, San Francisco\",\"showlegend\":true,\"x\":[1985,1986,1987,1988,1989,1990,1991,1992,1993,1994,1995,1996,1997,1998,1999,2000,2006,2007,2008,2009,2010,2011,2012,2013,2014,2015,2016,2017,2018,2019,2020,2021],\"xaxis\":\"x\",\"y\":[266847,286502,347207,439539,513304,600990,613626,608049,702520,769611,650563,758386,822667,837509,857392,999383,1159052,1449104,1504432,1555347,1563278,1578888,1595685,1418386,1388926,1638386,1605904,1622078,1638666,1655657,1671965,1666649],\"yaxis\":\"y\",\"type\":\"scattergl\"},{\"hovertemplate\":\"Organization Name=University Of California-Irvine<br>Fiscal Year=%{x}<br>Total Cost IC=%{y}<extra></extra>\",\"legendgroup\":\"University Of California-Irvine\",\"line\":{\"color\":\"#FECB52\",\"dash\":\"solid\"},\"marker\":{\"symbol\":\"circle\"},\"mode\":\"markers+lines\",\"name\":\"University Of California-Irvine\",\"showlegend\":true,\"x\":[1999,2000,2001,2002,2003,2004,2005,2006,2007,2008,2009,2010,2011,2012,2013,2014,2015,2016,2017,2018,2019,2020,2021],\"xaxis\":\"x\",\"y\":[50576,106519,140925,150947,152219,199739,199739,199739,199739,139002,384294,300437,303613,306877,303523,350938,354295,495249,412892,465235,579274,532056,591392],\"yaxis\":\"y\",\"type\":\"scattergl\"},{\"hovertemplate\":\"Organization Name=University Of Chicago<br>Fiscal Year=%{x}<br>Total Cost IC=%{y}<extra></extra>\",\"legendgroup\":\"University Of Chicago\",\"line\":{\"color\":\"#636efa\",\"dash\":\"solid\"},\"marker\":{\"symbol\":\"circle\"},\"mode\":\"markers+lines\",\"name\":\"University Of Chicago\",\"showlegend\":true,\"x\":[1985,1986,1987,1988,1989,1990,1991,1992,1993,1994,1995,1996,1997,1998,1999,2000,2001,2002,2003,2004,2005,2006,2007,2008,2009,2010,2011,2012,2013,2014,2015,2016,2017,2018,2019,2020,2021],\"xaxis\":\"x\",\"y\":[1047484,838484,686233,787014,810671,890048,928554,928554,894980,1010691,992880,962772,1014198,1054873,1233714,1506737,1562724,1634885,1604126,1733728,1791547,1838678,1838678,1838678,1846169,1072157,1082136,1140842,943437,1002681,1214727,1175440,1237785,1251118,1158548,1170523,1182783],\"yaxis\":\"y\",\"type\":\"scattergl\"},{\"hovertemplate\":\"Organization Name=University Of Cincinnati<br>Fiscal Year=%{x}<br>Total Cost IC=%{y}<extra></extra>\",\"legendgroup\":\"University Of Cincinnati\",\"line\":{\"color\":\"#EF553B\",\"dash\":\"solid\"},\"marker\":{\"symbol\":\"circle\"},\"mode\":\"markers+lines\",\"name\":\"University Of Cincinnati\",\"showlegend\":true,\"x\":[2002,2003,2004,2005,2006,2007,2008,2009,2010,2011,2013,2014,2015,2016,2017,2018,2019,2020,2021],\"xaxis\":\"x\",\"y\":[76373,160574,164271,246407,265323,334111,292347,587778,253227,184052,277195,326751,377269,381206,310654,383424,533052,637047,396487],\"yaxis\":\"y\",\"type\":\"scattergl\"},{\"hovertemplate\":\"Organization Name=University Of Colorado Denver<br>Fiscal Year=%{x}<br>Total Cost IC=%{y}<extra></extra>\",\"legendgroup\":\"University Of Colorado Denver\",\"line\":{\"color\":\"#00cc96\",\"dash\":\"solid\"},\"marker\":{\"symbol\":\"circle\"},\"mode\":\"markers+lines\",\"name\":\"University Of Colorado Denver\",\"showlegend\":true,\"x\":[2013,2014,2015,2016,2017,2018,2019,2020,2021],\"xaxis\":\"x\",\"y\":[844128,802145,809818,817697,766416,834079,1000564,1010906,860206],\"yaxis\":\"y\",\"type\":\"scattergl\"},{\"hovertemplate\":\"Organization Name=University Of Connecticut Sch Of Med/Dnt<br>Fiscal Year=%{x}<br>Total Cost IC=%{y}<extra></extra>\",\"legendgroup\":\"University Of Connecticut Sch Of Med/Dnt\",\"line\":{\"color\":\"#ab63fa\",\"dash\":\"solid\"},\"marker\":{\"symbol\":\"circle\"},\"mode\":\"markers+lines\",\"name\":\"University Of Connecticut Sch Of Med/Dnt\",\"showlegend\":true,\"x\":[1999,2000,2001,2002,2003,2004,2005,2006],\"xaxis\":\"x\",\"y\":[51140,102395,133580,143602,153387,133435,133435,95812],\"yaxis\":\"y\",\"type\":\"scattergl\"},{\"hovertemplate\":\"Organization Name=University Of Illinois At Chicago<br>Fiscal Year=%{x}<br>Total Cost IC=%{y}<extra></extra>\",\"legendgroup\":\"University Of Illinois At Chicago\",\"line\":{\"color\":\"#FFA15A\",\"dash\":\"solid\"},\"marker\":{\"symbol\":\"circle\"},\"mode\":\"markers+lines\",\"name\":\"University Of Illinois At Chicago\",\"showlegend\":true,\"x\":[2007,2008,2009,2010,2011,2012,2013,2014,2015,2016,2017,2018,2019,2020,2021],\"xaxis\":\"x\",\"y\":[96588,187445,329574,236512,236088,297927,397236,501341,506136,474772,567221,521299,737258,798084,868562],\"yaxis\":\"y\",\"type\":\"scattergl\"},{\"hovertemplate\":\"Organization Name=University Of Iowa<br>Fiscal Year=%{x}<br>Total Cost IC=%{y}<extra></extra>\",\"legendgroup\":\"University Of Iowa\",\"line\":{\"color\":\"#19d3f3\",\"dash\":\"solid\"},\"marker\":{\"symbol\":\"circle\"},\"mode\":\"markers+lines\",\"name\":\"University Of Iowa\",\"showlegend\":true,\"x\":[1985,1986,1987,1988,1989,1990,1991,1992,1993,1994,1995,1996,1997,1998,1999,2000,2001,2002,2003,2004,2005,2006,2007,2008,2009,2010,2011,2012,2013,2014,2015,2016,2017,2018,2019,2020,2021],\"xaxis\":\"x\",\"y\":[232717,224899,300144,288695,341280,355572,361404,361404,395406,382675,397387,406383,146458,147819,131845,428830,506975,628728,701291,644699,813973,813973,813973,813973,797580,353370,836196,844128,844128,852279,848332,868803,877396,886209,895242,819560,967732],\"yaxis\":\"y\",\"type\":\"scattergl\"},{\"hovertemplate\":\"Organization Name=University Of Kansas Medical Center<br>Fiscal Year=%{x}<br>Total Cost IC=%{y}<extra></extra>\",\"legendgroup\":\"University Of Kansas Medical Center\",\"line\":{\"color\":\"#FF6692\",\"dash\":\"solid\"},\"marker\":{\"symbol\":\"circle\"},\"mode\":\"markers+lines\",\"name\":\"University Of Kansas Medical Center\",\"showlegend\":true,\"x\":[2020,2021],\"xaxis\":\"x\",\"y\":[106411,215052],\"yaxis\":\"y\",\"type\":\"scattergl\"},{\"hovertemplate\":\"Organization Name=University Of Maryland Baltimore<br>Fiscal Year=%{x}<br>Total Cost IC=%{y}<extra></extra>\",\"legendgroup\":\"University Of Maryland Baltimore\",\"line\":{\"color\":\"#B6E880\",\"dash\":\"solid\"},\"marker\":{\"symbol\":\"circle\"},\"mode\":\"markers+lines\",\"name\":\"University Of Maryland Baltimore\",\"showlegend\":true,\"x\":[2010,2011,2012,2013,2014,2015,2016,2017,2018,2019,2020,2021],\"xaxis\":\"x\",\"y\":[89915,181644,183510,183510,184954,404909,408849,412892,417039,526416,904496,806444],\"yaxis\":\"y\",\"type\":\"scattergl\"},{\"hovertemplate\":\"Organization Name=University Of Miami School Of Medicine<br>Fiscal Year=%{x}<br>Total Cost IC=%{y}<extra></extra>\",\"legendgroup\":\"University Of Miami School Of Medicine\",\"line\":{\"color\":\"#FF97FF\",\"dash\":\"solid\"},\"marker\":{\"symbol\":\"circle\"},\"mode\":\"markers+lines\",\"name\":\"University Of Miami School Of Medicine\",\"showlegend\":true,\"x\":[2017,2018,2019,2020,2021],\"xaxis\":\"x\",\"y\":[206446,260650,421290,638468,376239],\"yaxis\":\"y\",\"type\":\"scattergl\"},{\"hovertemplate\":\"Organization Name=University Of Michigan At Ann Arbor<br>Fiscal Year=%{x}<br>Total Cost IC=%{y}<extra></extra>\",\"legendgroup\":\"University Of Michigan At Ann Arbor\",\"line\":{\"color\":\"#FECB52\",\"dash\":\"solid\"},\"marker\":{\"symbol\":\"circle\"},\"mode\":\"markers+lines\",\"name\":\"University Of Michigan At Ann Arbor\",\"showlegend\":true,\"x\":[1985,1986,1987,1988,1989,1990,1991,1992,1993,1994,1995,1996,1997,1998,1999,2000,2001,2002,2003,2004,2005,2006,2007,2008,2009,2010,2011,2012,2013,2014,2015,2016,2017,2018,2019,2020,2021],\"xaxis\":\"x\",\"y\":[358131,423080,453243,23210,22553,26117,731206,792611,834471,876219,933918,933908,985334,1025107,1236493,1304165,1360152,1432313,1502764,1534023,1659587,1659587,1659587,1659587,1667298,1754438,1770768,1787565,1588946,1524525,1265340,1277652,1290288,1407508,1474516,1383346,1451598],\"yaxis\":\"y\",\"type\":\"scattergl\"},{\"hovertemplate\":\"Organization Name=University Of Minnesota<br>Fiscal Year=%{x}<br>Total Cost IC=%{y}<extra></extra>\",\"legendgroup\":\"University Of Minnesota\",\"line\":{\"color\":\"#636efa\",\"dash\":\"solid\"},\"marker\":{\"symbol\":\"circle\"},\"mode\":\"markers+lines\",\"name\":\"University Of Minnesota\",\"showlegend\":true,\"x\":[1988,1989,1990,1991,1992,1993,1994,1995,1996,1997,1998,1999,2000,2001,2002,2003,2004,2005,2006,2007,2008,2009,2010,2011,2012,2013,2014,2015,2016,2017,2018,2019,2020,2021],\"xaxis\":\"x\",\"y\":[35904,80224,114651,150816,183637,227531,260988,259129,263453,284345,311712,408916,457645,452370,470335,78891,80628,342350,357862,402595,402595,490889,487344,491880,446891,446891,434448,455522,648567,567727,625559,782369,798084,988849],\"yaxis\":\"y\",\"type\":\"scattergl\"},{\"hovertemplate\":\"Organization Name=University Of Pennsylvania<br>Fiscal Year=%{x}<br>Total Cost IC=%{y}<extra></extra>\",\"legendgroup\":\"University Of Pennsylvania\",\"line\":{\"color\":\"#EF553B\",\"dash\":\"solid\"},\"marker\":{\"symbol\":\"circle\"},\"mode\":\"markers+lines\",\"name\":\"University Of Pennsylvania\",\"showlegend\":true,\"x\":[1985,1986,1987,1988,1989,1990,1991,1992,1993,1994,1995,1996,1997,1998,1999,2000,2001,2002,2003,2004,2005,2006,2007,2008,2009,2010,2011,2012,2013,2014,2015,2016,2017,2018,2019,2020,2021],\"xaxis\":\"x\",\"y\":[962410,865769,992586,996610,1029437,1223279,1030910,1205694,1148135,963629,1260254,1232248,1332571,1429463,1752452,1819540,1897300,1667949,2387872,2431288,2382662,2334036,2330536,2318100,2377190,2436720,2508588,2471744,2101076,2122654,2287200,2310820,2186781,2554366,2580403,2607074,2795670],\"yaxis\":\"y\",\"type\":\"scattergl\"},{\"hovertemplate\":\"Organization Name=University Of Pittsburgh At Pittsburgh<br>Fiscal Year=%{x}<br>Total Cost IC=%{y}<extra></extra>\",\"legendgroup\":\"University Of Pittsburgh At Pittsburgh\",\"line\":{\"color\":\"#00cc96\",\"dash\":\"solid\"},\"marker\":{\"symbol\":\"circle\"},\"mode\":\"markers+lines\",\"name\":\"University Of Pittsburgh At Pittsburgh\",\"showlegend\":true,\"x\":[1999,2000,2001,2002,2003,2004,2005,2006,2007,2008,2009,2010,2011,2012,2013,2014,2015,2016,2017,2018,2019,2020,2021],\"xaxis\":\"x\",\"y\":[96541,144623,188555,290699,391369,399184,399184,390123,579525,579525,582169,633547,737346,744818,794473,802145,1012272,1022122,1083842,1094728,1105887,1170523,1227960],\"yaxis\":\"y\",\"type\":\"scattergl\"},{\"hovertemplate\":\"Organization Name=University Of Rochester<br>Fiscal Year=%{x}<br>Total Cost IC=%{y}<extra></extra>\",\"legendgroup\":\"University Of Rochester\",\"line\":{\"color\":\"#ab63fa\",\"dash\":\"solid\"},\"marker\":{\"symbol\":\"circle\"},\"mode\":\"markers+lines\",\"name\":\"University Of Rochester\",\"showlegend\":true,\"x\":[1985,1986,1987,1988,1989,1990,1991,1992,1993,1994,1995,1996,1997,1998,1999,2000,2001,2002,2003,2004,2005,2006,2007,2008,2009,2010,2011,2012,2013,2014,2015,2016,2017,2018,2019,2020,2021],\"xaxis\":\"x\",\"y\":[276226,255554,278654,291259,316632,335076,338964,338600,251517,210035,192531,216933,287237,292752,419628,420748,434071,456120,437745,520781,520781,438777,520781,512282,582169,584813,590256,546200,523768,601609,708590,715485,722561,656716,842580,990397,913969],\"yaxis\":\"y\",\"type\":\"scattergl\"},{\"hovertemplate\":\"Organization Name=University Of Texas Hlth Sci Ctr Houston<br>Fiscal Year=%{x}<br>Total Cost IC=%{y}<extra></extra>\",\"legendgroup\":\"University Of Texas Hlth Sci Ctr Houston\",\"line\":{\"color\":\"#FFA15A\",\"dash\":\"solid\"},\"marker\":{\"symbol\":\"circle\"},\"mode\":\"markers+lines\",\"name\":\"University Of Texas Hlth Sci Ctr Houston\",\"showlegend\":true,\"x\":[2018,2019,2020,2021],\"xaxis\":\"x\",\"y\":[173980,176105,178282,301239],\"yaxis\":\"y\",\"type\":\"scattergl\"},{\"hovertemplate\":\"Organization Name=University Of Texas Hlth Science Center<br>Fiscal Year=%{x}<br>Total Cost IC=%{y}<extra></extra>\",\"legendgroup\":\"University Of Texas Hlth Science Center\",\"line\":{\"color\":\"#19d3f3\",\"dash\":\"solid\"},\"marker\":{\"symbol\":\"circle\"},\"mode\":\"markers+lines\",\"name\":\"University Of Texas Hlth Science Center\",\"showlegend\":true,\"x\":[2018,2019,2020,2021],\"xaxis\":\"x\",\"y\":[87420,176965,223928,272057],\"yaxis\":\"y\",\"type\":\"scattergl\"},{\"hovertemplate\":\"Organization Name=University Of Virginia<br>Fiscal Year=%{x}<br>Total Cost IC=%{y}<extra></extra>\",\"legendgroup\":\"University Of Virginia\",\"line\":{\"color\":\"#FF6692\",\"dash\":\"solid\"},\"marker\":{\"symbol\":\"circle\"},\"mode\":\"markers+lines\",\"name\":\"University Of Virginia\",\"showlegend\":true,\"x\":[1985,1986,1987,1988,1989,1990,1991,1992,1993,1994,1995,1996,1997,2000,2001,2002,2003,2004,2005,2006,2007,2008,2009,2010,2011,2012,2013,2014,2015,2016,2017,2018,2019,2020,2021],\"xaxis\":\"x\",\"y\":[222681,198650,222692,268842,303879,315657,322065,322065,333691,359199,352733,330805,354910,138135,252623,304748,360454,363801,425779,425779,511178,562296,562333,584813,541068,546200,595855,545133,607363,613273,670950,697594,586952,744878,752680],\"yaxis\":\"y\",\"type\":\"scattergl\"},{\"hovertemplate\":\"Organization Name=University Of Washington<br>Fiscal Year=%{x}<br>Total Cost IC=%{y}<extra></extra>\",\"legendgroup\":\"University Of Washington\",\"line\":{\"color\":\"#B6E880\",\"dash\":\"solid\"},\"marker\":{\"symbol\":\"circle\"},\"mode\":\"markers+lines\",\"name\":\"University Of Washington\",\"showlegend\":true,\"x\":[1985,1986,1987,1988,1989,1990,1991,1992,1993,1994,1995,1996,1997,1998,1999,2000,2001,2002,2003,2004,2005,2006,2007,2008,2009,2010,2011,2012,2013,2014,2015,2016,2017,2018,2019,2020,2021],\"xaxis\":\"x\",\"y\":[304728,288903,314297,292402,331609,374965,389598,389598,370306,459040,411630,459044,516872,538255,739789,777358,820904,877029,883037,1051388,1051388,1015133,1051388,1050213,1320314,1326924,1340520,1309366,1256371,1403754,1417181,1430970,1445123,1503407,1527177,1542962,1666649],\"yaxis\":\"y\",\"type\":\"scattergl\"},{\"hovertemplate\":\"Organization Name=Ut Southwestern Medical Center<br>Fiscal Year=%{x}<br>Total Cost IC=%{y}<extra></extra>\",\"legendgroup\":\"Ut Southwestern Medical Center\",\"line\":{\"color\":\"#FF97FF\",\"dash\":\"solid\"},\"marker\":{\"symbol\":\"circle\"},\"mode\":\"markers+lines\",\"name\":\"Ut Southwestern Medical Center\",\"showlegend\":true,\"x\":[1988,1989,1990,1991,1992,1994,1995,1996,1997,1998,1999,2000,2001,2002,2003,2004,2005,2006,2007,2008,2009,2010,2011,2012,2013,2014,2015,2016,2017,2018,2019,2020,2021],\"xaxis\":\"x\",\"y\":[175444,180469,206689,218505,232824,270951,269885,275737,358657,382977,469839,589761,585931,678235,723245,686550,743216,732137,738639,738639,725649,833736,844169,892070,854900,710276,947984,959312,928719,940124,790426,1068318,1081135],\"yaxis\":\"y\",\"type\":\"scattergl\"},{\"hovertemplate\":\"Organization Name=Vanderbilt University<br>Fiscal Year=%{x}<br>Total Cost IC=%{y}<extra></extra>\",\"legendgroup\":\"Vanderbilt University\",\"line\":{\"color\":\"#FECB52\",\"dash\":\"solid\"},\"marker\":{\"symbol\":\"circle\"},\"mode\":\"markers+lines\",\"name\":\"Vanderbilt University\",\"showlegend\":true,\"x\":[1985,1986,1987,1988,1989,1990,1991,1992,1993,1994,1995,1996,1997,1998,1999,2000,2001,2002,2003,2004,2005,2006,2007,2008,2009,2010,2011,2012,2013,2014,2015,2016,2017,2018,2019,2020,2021],\"xaxis\":\"x\",\"y\":[215582,272028,377286,374287,359565,427520,432704,432704,422398,548742,545207,548737,576057,580683,681283,803796,834900,836969,868263,811247,900866,960216,1008226,1001953,1067310,1072157,1082136,1092400,1020603,1102950,1164113,1226546,1238676,1188535,1369193,1383346,1397835],\"yaxis\":\"y\",\"type\":\"scattergl\"},{\"hovertemplate\":\"Organization Name=Washington University<br>Fiscal Year=%{x}<br>Total Cost IC=%{y}<extra></extra>\",\"legendgroup\":\"Washington University\",\"line\":{\"color\":\"#636efa\",\"dash\":\"solid\"},\"marker\":{\"symbol\":\"circle\"},\"mode\":\"markers+lines\",\"name\":\"Washington University\",\"showlegend\":true,\"x\":[1985,1986,1987,1988,1989,1990,1991,1992,1993,1994,1995,1996,1997,1998,1999,2000,2001,2002,2003,2004,2005,2006,2007,2008,2009,2010,2011,2012,2013,2014,2015,2016,2017,2018,2019,2020,2021],\"xaxis\":\"x\",\"y\":[773014,773127,898043,879941,975831,1044776,1061213,1061213,1155675,1223392,1291668,1268479,1342403,1384377,1661756,2015458,2096328,2158242,2258047,2298054,2446788,2348916,2446788,2397852,2389478,2485453,2557776,2482729,2284110,2188716,2226998,2386174,2322519,2397976,2364928,2394252,2580618],\"yaxis\":\"y\",\"type\":\"scattergl\"},{\"hovertemplate\":\"Organization Name=Yale University<br>Fiscal Year=%{x}<br>Total Cost IC=%{y}<extra></extra>\",\"legendgroup\":\"Yale University\",\"line\":{\"color\":\"#EF553B\",\"dash\":\"solid\"},\"marker\":{\"symbol\":\"circle\"},\"mode\":\"markers+lines\",\"name\":\"Yale University\",\"showlegend\":true,\"x\":[1985,1986,1987,1988,1989,1990,1991,1992,1993,1994,1995,1996,1997,1998,1999,2000,2001,2002,2003,2004,2005,2006,2007,2008,2009,2010,2011,2012,2013,2014,2015,2016,2017,2018,2019,2020,2021],\"xaxis\":\"x\",\"y\":[783704,762396,861171,854474,936418,1008629,1028200,1028200,983346,1031389,1097236,1101466,1165747,1235465,1489757,1754454,1827548,1921759,2013736,2050962,2133929,2087539,2029265,2133929,2138456,2193048,2213460,2333765,2135147,2129829,2328226,2401986,2374130,2397976,2318282,2181430,2344412],\"yaxis\":\"y\",\"type\":\"scattergl\"}],                        {\"template\":{\"data\":{\"bar\":[{\"error_x\":{\"color\":\"#2a3f5f\"},\"error_y\":{\"color\":\"#2a3f5f\"},\"marker\":{\"line\":{\"color\":\"#E5ECF6\",\"width\":0.5},\"pattern\":{\"fillmode\":\"overlay\",\"size\":10,\"solidity\":0.2}},\"type\":\"bar\"}],\"barpolar\":[{\"marker\":{\"line\":{\"color\":\"#E5ECF6\",\"width\":0.5},\"pattern\":{\"fillmode\":\"overlay\",\"size\":10,\"solidity\":0.2}},\"type\":\"barpolar\"}],\"carpet\":[{\"aaxis\":{\"endlinecolor\":\"#2a3f5f\",\"gridcolor\":\"white\",\"linecolor\":\"white\",\"minorgridcolor\":\"white\",\"startlinecolor\":\"#2a3f5f\"},\"baxis\":{\"endlinecolor\":\"#2a3f5f\",\"gridcolor\":\"white\",\"linecolor\":\"white\",\"minorgridcolor\":\"white\",\"startlinecolor\":\"#2a3f5f\"},\"type\":\"carpet\"}],\"choropleth\":[{\"colorbar\":{\"outlinewidth\":0,\"ticks\":\"\"},\"type\":\"choropleth\"}],\"contour\":[{\"colorbar\":{\"outlinewidth\":0,\"ticks\":\"\"},\"colorscale\":[[0.0,\"#0d0887\"],[0.1111111111111111,\"#46039f\"],[0.2222222222222222,\"#7201a8\"],[0.3333333333333333,\"#9c179e\"],[0.4444444444444444,\"#bd3786\"],[0.5555555555555556,\"#d8576b\"],[0.6666666666666666,\"#ed7953\"],[0.7777777777777778,\"#fb9f3a\"],[0.8888888888888888,\"#fdca26\"],[1.0,\"#f0f921\"]],\"type\":\"contour\"}],\"contourcarpet\":[{\"colorbar\":{\"outlinewidth\":0,\"ticks\":\"\"},\"type\":\"contourcarpet\"}],\"heatmap\":[{\"colorbar\":{\"outlinewidth\":0,\"ticks\":\"\"},\"colorscale\":[[0.0,\"#0d0887\"],[0.1111111111111111,\"#46039f\"],[0.2222222222222222,\"#7201a8\"],[0.3333333333333333,\"#9c179e\"],[0.4444444444444444,\"#bd3786\"],[0.5555555555555556,\"#d8576b\"],[0.6666666666666666,\"#ed7953\"],[0.7777777777777778,\"#fb9f3a\"],[0.8888888888888888,\"#fdca26\"],[1.0,\"#f0f921\"]],\"type\":\"heatmap\"}],\"heatmapgl\":[{\"colorbar\":{\"outlinewidth\":0,\"ticks\":\"\"},\"colorscale\":[[0.0,\"#0d0887\"],[0.1111111111111111,\"#46039f\"],[0.2222222222222222,\"#7201a8\"],[0.3333333333333333,\"#9c179e\"],[0.4444444444444444,\"#bd3786\"],[0.5555555555555556,\"#d8576b\"],[0.6666666666666666,\"#ed7953\"],[0.7777777777777778,\"#fb9f3a\"],[0.8888888888888888,\"#fdca26\"],[1.0,\"#f0f921\"]],\"type\":\"heatmapgl\"}],\"histogram\":[{\"marker\":{\"pattern\":{\"fillmode\":\"overlay\",\"size\":10,\"solidity\":0.2}},\"type\":\"histogram\"}],\"histogram2d\":[{\"colorbar\":{\"outlinewidth\":0,\"ticks\":\"\"},\"colorscale\":[[0.0,\"#0d0887\"],[0.1111111111111111,\"#46039f\"],[0.2222222222222222,\"#7201a8\"],[0.3333333333333333,\"#9c179e\"],[0.4444444444444444,\"#bd3786\"],[0.5555555555555556,\"#d8576b\"],[0.6666666666666666,\"#ed7953\"],[0.7777777777777778,\"#fb9f3a\"],[0.8888888888888888,\"#fdca26\"],[1.0,\"#f0f921\"]],\"type\":\"histogram2d\"}],\"histogram2dcontour\":[{\"colorbar\":{\"outlinewidth\":0,\"ticks\":\"\"},\"colorscale\":[[0.0,\"#0d0887\"],[0.1111111111111111,\"#46039f\"],[0.2222222222222222,\"#7201a8\"],[0.3333333333333333,\"#9c179e\"],[0.4444444444444444,\"#bd3786\"],[0.5555555555555556,\"#d8576b\"],[0.6666666666666666,\"#ed7953\"],[0.7777777777777778,\"#fb9f3a\"],[0.8888888888888888,\"#fdca26\"],[1.0,\"#f0f921\"]],\"type\":\"histogram2dcontour\"}],\"mesh3d\":[{\"colorbar\":{\"outlinewidth\":0,\"ticks\":\"\"},\"type\":\"mesh3d\"}],\"parcoords\":[{\"line\":{\"colorbar\":{\"outlinewidth\":0,\"ticks\":\"\"}},\"type\":\"parcoords\"}],\"pie\":[{\"automargin\":true,\"type\":\"pie\"}],\"scatter\":[{\"marker\":{\"colorbar\":{\"outlinewidth\":0,\"ticks\":\"\"}},\"type\":\"scatter\"}],\"scatter3d\":[{\"line\":{\"colorbar\":{\"outlinewidth\":0,\"ticks\":\"\"}},\"marker\":{\"colorbar\":{\"outlinewidth\":0,\"ticks\":\"\"}},\"type\":\"scatter3d\"}],\"scattercarpet\":[{\"marker\":{\"colorbar\":{\"outlinewidth\":0,\"ticks\":\"\"}},\"type\":\"scattercarpet\"}],\"scattergeo\":[{\"marker\":{\"colorbar\":{\"outlinewidth\":0,\"ticks\":\"\"}},\"type\":\"scattergeo\"}],\"scattergl\":[{\"marker\":{\"colorbar\":{\"outlinewidth\":0,\"ticks\":\"\"}},\"type\":\"scattergl\"}],\"scattermapbox\":[{\"marker\":{\"colorbar\":{\"outlinewidth\":0,\"ticks\":\"\"}},\"type\":\"scattermapbox\"}],\"scatterpolar\":[{\"marker\":{\"colorbar\":{\"outlinewidth\":0,\"ticks\":\"\"}},\"type\":\"scatterpolar\"}],\"scatterpolargl\":[{\"marker\":{\"colorbar\":{\"outlinewidth\":0,\"ticks\":\"\"}},\"type\":\"scatterpolargl\"}],\"scatterternary\":[{\"marker\":{\"colorbar\":{\"outlinewidth\":0,\"ticks\":\"\"}},\"type\":\"scatterternary\"}],\"surface\":[{\"colorbar\":{\"outlinewidth\":0,\"ticks\":\"\"},\"colorscale\":[[0.0,\"#0d0887\"],[0.1111111111111111,\"#46039f\"],[0.2222222222222222,\"#7201a8\"],[0.3333333333333333,\"#9c179e\"],[0.4444444444444444,\"#bd3786\"],[0.5555555555555556,\"#d8576b\"],[0.6666666666666666,\"#ed7953\"],[0.7777777777777778,\"#fb9f3a\"],[0.8888888888888888,\"#fdca26\"],[1.0,\"#f0f921\"]],\"type\":\"surface\"}],\"table\":[{\"cells\":{\"fill\":{\"color\":\"#EBF0F8\"},\"line\":{\"color\":\"white\"}},\"header\":{\"fill\":{\"color\":\"#C8D4E3\"},\"line\":{\"color\":\"white\"}},\"type\":\"table\"}]},\"layout\":{\"annotationdefaults\":{\"arrowcolor\":\"#2a3f5f\",\"arrowhead\":0,\"arrowwidth\":1},\"autotypenumbers\":\"strict\",\"coloraxis\":{\"colorbar\":{\"outlinewidth\":0,\"ticks\":\"\"}},\"colorscale\":{\"diverging\":[[0,\"#8e0152\"],[0.1,\"#c51b7d\"],[0.2,\"#de77ae\"],[0.3,\"#f1b6da\"],[0.4,\"#fde0ef\"],[0.5,\"#f7f7f7\"],[0.6,\"#e6f5d0\"],[0.7,\"#b8e186\"],[0.8,\"#7fbc41\"],[0.9,\"#4d9221\"],[1,\"#276419\"]],\"sequential\":[[0.0,\"#0d0887\"],[0.1111111111111111,\"#46039f\"],[0.2222222222222222,\"#7201a8\"],[0.3333333333333333,\"#9c179e\"],[0.4444444444444444,\"#bd3786\"],[0.5555555555555556,\"#d8576b\"],[0.6666666666666666,\"#ed7953\"],[0.7777777777777778,\"#fb9f3a\"],[0.8888888888888888,\"#fdca26\"],[1.0,\"#f0f921\"]],\"sequentialminus\":[[0.0,\"#0d0887\"],[0.1111111111111111,\"#46039f\"],[0.2222222222222222,\"#7201a8\"],[0.3333333333333333,\"#9c179e\"],[0.4444444444444444,\"#bd3786\"],[0.5555555555555556,\"#d8576b\"],[0.6666666666666666,\"#ed7953\"],[0.7777777777777778,\"#fb9f3a\"],[0.8888888888888888,\"#fdca26\"],[1.0,\"#f0f921\"]]},\"colorway\":[\"#636efa\",\"#EF553B\",\"#00cc96\",\"#ab63fa\",\"#FFA15A\",\"#19d3f3\",\"#FF6692\",\"#B6E880\",\"#FF97FF\",\"#FECB52\"],\"font\":{\"color\":\"#2a3f5f\"},\"geo\":{\"bgcolor\":\"white\",\"lakecolor\":\"white\",\"landcolor\":\"#E5ECF6\",\"showlakes\":true,\"showland\":true,\"subunitcolor\":\"white\"},\"hoverlabel\":{\"align\":\"left\"},\"hovermode\":\"closest\",\"mapbox\":{\"style\":\"light\"},\"paper_bgcolor\":\"white\",\"plot_bgcolor\":\"#E5ECF6\",\"polar\":{\"angularaxis\":{\"gridcolor\":\"white\",\"linecolor\":\"white\",\"ticks\":\"\"},\"bgcolor\":\"#E5ECF6\",\"radialaxis\":{\"gridcolor\":\"white\",\"linecolor\":\"white\",\"ticks\":\"\"}},\"scene\":{\"xaxis\":{\"backgroundcolor\":\"#E5ECF6\",\"gridcolor\":\"white\",\"gridwidth\":2,\"linecolor\":\"white\",\"showbackground\":true,\"ticks\":\"\",\"zerolinecolor\":\"white\"},\"yaxis\":{\"backgroundcolor\":\"#E5ECF6\",\"gridcolor\":\"white\",\"gridwidth\":2,\"linecolor\":\"white\",\"showbackground\":true,\"ticks\":\"\",\"zerolinecolor\":\"white\"},\"zaxis\":{\"backgroundcolor\":\"#E5ECF6\",\"gridcolor\":\"white\",\"gridwidth\":2,\"linecolor\":\"white\",\"showbackground\":true,\"ticks\":\"\",\"zerolinecolor\":\"white\"}},\"shapedefaults\":{\"line\":{\"color\":\"#2a3f5f\"}},\"ternary\":{\"aaxis\":{\"gridcolor\":\"white\",\"linecolor\":\"white\",\"ticks\":\"\"},\"baxis\":{\"gridcolor\":\"white\",\"linecolor\":\"white\",\"ticks\":\"\"},\"bgcolor\":\"#E5ECF6\",\"caxis\":{\"gridcolor\":\"white\",\"linecolor\":\"white\",\"ticks\":\"\"}},\"title\":{\"x\":0.05},\"xaxis\":{\"automargin\":true,\"gridcolor\":\"white\",\"linecolor\":\"white\",\"ticks\":\"\",\"title\":{\"standoff\":15},\"zerolinecolor\":\"white\",\"zerolinewidth\":2},\"yaxis\":{\"automargin\":true,\"gridcolor\":\"white\",\"linecolor\":\"white\",\"ticks\":\"\",\"title\":{\"standoff\":15},\"zerolinecolor\":\"white\",\"zerolinewidth\":2}}},\"xaxis\":{\"anchor\":\"y\",\"domain\":[0.0,1.0],\"title\":{\"text\":\"Fiscal Year\"}},\"yaxis\":{\"anchor\":\"x\",\"domain\":[0.0,1.0],\"title\":{\"text\":\"Total Cost IC\"}},\"legend\":{\"title\":{\"text\":\"Organization Name\"},\"tracegroupgap\":0},\"title\":{\"text\":\"Longitudinal MSTP Funding\"},\"height\":800,\"width\":1500},                        {\"responsive\": true}                    ).then(function(){\n",
       "                            \n",
       "var gd = document.getElementById('4731580f-5002-4c6c-8e9b-f01e84d5b711');\n",
       "var x = new MutationObserver(function (mutations, observer) {{\n",
       "        var display = window.getComputedStyle(gd).display;\n",
       "        if (!display || display === 'none') {{\n",
       "            console.log([gd, 'removed!']);\n",
       "            Plotly.purge(gd);\n",
       "            observer.disconnect();\n",
       "        }}\n",
       "}});\n",
       "\n",
       "// Listen for the removal of the full notebook cells\n",
       "var notebookContainer = gd.closest('#notebook-container');\n",
       "if (notebookContainer) {{\n",
       "    x.observe(notebookContainer, {childList: true});\n",
       "}}\n",
       "\n",
       "// Listen for the clearing of the current output cell\n",
       "var outputEl = gd.closest('.output');\n",
       "if (outputEl) {{\n",
       "    x.observe(outputEl, {childList: true});\n",
       "}}\n",
       "\n",
       "                        })                };                });            </script>        </div>"
      ]
     },
     "metadata": {},
     "output_type": "display_data"
    }
   ],
   "source": [
    "fig = px.line(data_frame=mstp_sums, x=\"Fiscal Year\", y=\"Total Cost IC\", title=\"Longitudinal MSTP Funding\", color=\"Organization Name\", markers=True, width=1500, height=800)\n",
    "fig.show()"
   ]
  }
 ],
 "metadata": {
  "kernelspec": {
   "display_name": "Python 3 (ipykernel)",
   "language": "python",
   "name": "python3"
  },
  "language_info": {
   "codemirror_mode": {
    "name": "ipython",
    "version": 3
   },
   "file_extension": ".py",
   "mimetype": "text/x-python",
   "name": "python",
   "nbconvert_exporter": "python",
   "pygments_lexer": "ipython3",
   "version": "3.9.7"
  }
 },
 "nbformat": 4,
 "nbformat_minor": 5
}
